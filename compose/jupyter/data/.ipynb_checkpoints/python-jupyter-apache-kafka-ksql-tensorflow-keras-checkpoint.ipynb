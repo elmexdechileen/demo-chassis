{
 "cells": [
  {
   "cell_type": "markdown",
   "metadata": {},
   "source": [
    "# Apache Kafka Integration + Preprocessing / Interactive Analysis with KSQL"
   ]
  },
  {
   "cell_type": "markdown",
   "metadata": {},
   "source": [
    "This notebook uses the combination of Python, Apache Kafka, KSQL for Machine Learning infrastructures. \n",
    "\n",
    "It includes code examples using ksql-python and other widespread components from Python’s machine learning ecosystem, like Numpy, pandas, TensorFlow and Keras. \n",
    "\n",
    "The use case is fraud detection for credit card payments. We use a test data set from Kaggle as foundation to train an unsupervised autoencoder to detect anomalies and potential fraud in payments. Focus of this example is not just model training, but the whole Machine Learning infrastructure including data ingestion, data preprocessing, model training, model deployment and monitoring. All of this needs to be scalable, reliable and performant.\n",
    "\n",
    "If you want to learn more about the relation between the Apache Kafka open source ecosystem and Machine Learning, please check out these two blog posts:\n",
    "\n",
    "- [How to Build and Deploy Scalable Machine Learning in Production with Apache Kafka](https://www.confluent.io/blog/build-deploy-scalable-machine-learning-production-apache-kafka/)\n",
    "- [Using Apache Kafka to Drive Cutting-Edge Machine Learning](https://www.confluent.io/blog/using-apache-kafka-drive-cutting-edge-machine-learning)\n",
    "\n",
    "##### This notebook is not meant to be perfect using all coding and ML best practices, but just a simple guide how to build your own notebooks where you can combine Python APIs with Kafka and KSQL"
   ]
  },
  {
   "cell_type": "markdown",
   "metadata": {},
   "source": [
    "## Data Integration and Preprocessing with Python and KSQL"
   ]
  },
  {
   "cell_type": "code",
   "execution_count": 67,
   "metadata": {},
   "outputs": [],
   "source": [
    "from time import sleep\n",
    "from json import dumps\n",
    "from kafka import KafkaProducer"
   ]
  },
  {
   "cell_type": "code",
   "execution_count": 68,
   "metadata": {},
   "outputs": [],
   "source": [
    "from ksql import KSQLAPI\n",
    "client = KSQLAPI('http://ksqldb-server:8088')"
   ]
  },
  {
   "cell_type": "code",
   "execution_count": 69,
   "metadata": {},
   "outputs": [],
   "source": [
    "producer = KafkaProducer(bootstrap_servers=['broker:29092'],\n",
    "                         value_serializer=lambda x: \n",
    "                         dumps(x).encode('utf-8'))"
   ]
  },
  {
   "cell_type": "code",
   "execution_count": 70,
   "metadata": {},
   "outputs": [],
   "source": [
    "from faker import Faker\n",
    "fake = Faker()"
   ]
  },
  {
   "cell_type": "code",
   "execution_count": 6,
   "metadata": {},
   "outputs": [
    {
     "data": {
      "text/plain": [
       "<kafka.producer.future.FutureRecordMetadata at 0x7f6ade884220>"
      ]
     },
     "execution_count": 6,
     "metadata": {},
     "output_type": "execute_result"
    }
   ],
   "source": [
    "producer.send('transactions', value={\n",
    "    'transaction_id': \"TEST\",\n",
    "    'from_account': fake.iban(),\n",
    "    'to_account': fake.iban(),\n",
    "    'amount_cents': fake.pyint(),\n",
    "    'created_at': fake.date_time().strftime(\"%Y/%m/%d, %H:%M:%S\")\n",
    "})"
   ]
  },
  {
   "cell_type": "markdown",
   "metadata": {},
   "source": [
    "Consume source data from Kafka Topic \"creditcardfraud_source\":"
   ]
  },
  {
   "cell_type": "code",
   "execution_count": 71,
   "metadata": {},
   "outputs": [
    {
     "data": {
      "text/plain": [
       "True"
      ]
     },
     "execution_count": 71,
     "metadata": {},
     "output_type": "execute_result"
    }
   ],
   "source": [
    "client.create_stream(table_name='TRANSACTIONS',\n",
    "                     columns_type=['transaction_id string',\n",
    "                                   'from_account string',\n",
    "                                   'to_account string',\n",
    "                                   'amount_cents integer',\n",
    "                                   'created_at string'],\n",
    "                     topic='transactions',\n",
    "                     value_format='JSON')"
   ]
  },
  {
   "cell_type": "markdown",
   "metadata": {},
   "source": [
    "Create a materialized table (no high level method available)"
   ]
  },
  {
   "cell_type": "code",
   "execution_count": 124,
   "metadata": {},
   "outputs": [
    {
     "data": {
      "text/plain": [
       "[{'@type': 'currentStatus',\n",
       "  'statementText': \"CREATE TABLE AGG WITH (KAFKA_TOPIC='AGG', PARTITIONS=1, REPLICAS=1) AS SELECT\\n  TRANSACTIONS.FROM_ACCOUNT FROM_ACCOUNT,\\n  COUNT(*) NUM_TRANSACTIONS,\\n  SUM(TRANSACTIONS.AMOUNT_CENTS) TOTAL_VALUE\\nFROM TRANSACTIONS TRANSACTIONS\\nGROUP BY TRANSACTIONS.FROM_ACCOUNT\\nEMIT CHANGES;\",\n",
       "  'commandId': 'table/`AGG`/create',\n",
       "  'commandStatus': {'status': 'SUCCESS',\n",
       "   'message': 'Created query with ID CTAS_AGG_11'},\n",
       "  'commandSequenceNumber': 16,\n",
       "  'warnings': []}]"
      ]
     },
     "execution_count": 124,
     "metadata": {},
     "output_type": "execute_result"
    },
    {
     "name": "stderr",
     "output_type": "stream",
     "text": [
      "WARNING:kafka.client:Node 1 connection failed -- refreshing metadata\n",
      "ERROR:kafka.conn:Connect attempt to <BrokerConnection node_id=1 host=broker:29092 <connecting> [IPv4 ('172.30.0.18', 29092)]> returned error 111. Disconnecting.\n",
      "WARNING:kafka.client:Node 1 connection failed -- refreshing metadata\n",
      "ERROR:kafka.conn:Connect attempt to <BrokerConnection node_id=1 host=broker:29092 <connecting> [IPv4 ('172.30.0.18', 29092)]> returned error 111. Disconnecting.\n",
      "WARNING:kafka.client:Node 1 connection failed -- refreshing metadata\n",
      "ERROR:kafka.conn:Connect attempt to <BrokerConnection node_id=1 host=broker:29092 <connecting> [IPv4 ('172.30.0.18', 29092)]> returned error 111. Disconnecting.\n",
      "WARNING:kafka.client:Node 1 connection failed -- refreshing metadata\n",
      "ERROR:kafka.conn:Connect attempt to <BrokerConnection node_id=1 host=broker:29092 <connecting> [IPv4 ('172.30.0.18', 29092)]> returned error 111. Disconnecting.\n",
      "WARNING:kafka.client:Node 1 connection failed -- refreshing metadata\n",
      "ERROR:kafka.conn:Connect attempt to <BrokerConnection node_id=1 host=broker:29092 <connecting> [IPv4 ('172.30.0.18', 29092)]> returned error 111. Disconnecting.\n",
      "WARNING:kafka.client:Node 1 connection failed -- refreshing metadata\n",
      "ERROR:kafka.conn:Connect attempt to <BrokerConnection node_id=1 host=broker:29092 <connecting> [IPv4 ('172.30.0.18', 29092)]> returned error 113. Disconnecting.\n",
      "WARNING:kafka.client:Node 1 connection failed -- refreshing metadata\n",
      "WARNING:kafka.conn:DNS lookup failed for broker:29092, exception was [Errno -2] Name or service not known. Is your advertised.listeners (called advertised.host.name before Kafka 9) correct and resolvable?\n",
      "ERROR:kafka.conn:DNS lookup failed for broker:29092 (AddressFamily.AF_UNSPEC)\n",
      "WARNING:kafka.conn:DNS lookup failed for broker:29092, exception was [Errno -3] Temporary failure in name resolution. Is your advertised.listeners (called advertised.host.name before Kafka 9) correct and resolvable?\n",
      "ERROR:kafka.conn:DNS lookup failed for broker:29092 (AddressFamily.AF_UNSPEC)\n",
      "WARNING:kafka.conn:DNS lookup failed for broker:29092, exception was [Errno -3] Temporary failure in name resolution. Is your advertised.listeners (called advertised.host.name before Kafka 9) correct and resolvable?\n",
      "ERROR:kafka.conn:DNS lookup failed for broker:29092 (AddressFamily.AF_UNSPEC)\n",
      "WARNING:kafka.conn:DNS lookup failed for broker:29092, exception was [Errno -3] Temporary failure in name resolution. Is your advertised.listeners (called advertised.host.name before Kafka 9) correct and resolvable?\n",
      "ERROR:kafka.conn:DNS lookup failed for broker:29092 (AddressFamily.AF_UNSPEC)\n",
      "WARNING:kafka.conn:DNS lookup failed for broker:29092, exception was [Errno -3] Temporary failure in name resolution. Is your advertised.listeners (called advertised.host.name before Kafka 9) correct and resolvable?\n",
      "ERROR:kafka.conn:DNS lookup failed for broker:29092 (AddressFamily.AF_UNSPEC)\n",
      "WARNING:kafka.conn:DNS lookup failed for broker:29092, exception was [Errno -3] Temporary failure in name resolution. Is your advertised.listeners (called advertised.host.name before Kafka 9) correct and resolvable?\n",
      "ERROR:kafka.conn:DNS lookup failed for broker:29092 (AddressFamily.AF_UNSPEC)\n",
      "WARNING:kafka.conn:DNS lookup failed for broker:29092, exception was [Errno -3] Temporary failure in name resolution. Is your advertised.listeners (called advertised.host.name before Kafka 9) correct and resolvable?\n",
      "ERROR:kafka.conn:DNS lookup failed for broker:29092 (AddressFamily.AF_UNSPEC)\n",
      "WARNING:kafka.conn:DNS lookup failed for broker:29092, exception was [Errno -3] Temporary failure in name resolution. Is your advertised.listeners (called advertised.host.name before Kafka 9) correct and resolvable?\n",
      "ERROR:kafka.conn:DNS lookup failed for broker:29092 (AddressFamily.AF_UNSPEC)\n",
      "WARNING:kafka.conn:DNS lookup failed for broker:29092, exception was [Errno -3] Temporary failure in name resolution. Is your advertised.listeners (called advertised.host.name before Kafka 9) correct and resolvable?\n",
      "ERROR:kafka.conn:DNS lookup failed for broker:29092 (AddressFamily.AF_UNSPEC)\n",
      "WARNING:kafka.conn:DNS lookup failed for broker:29092, exception was [Errno -3] Temporary failure in name resolution. Is your advertised.listeners (called advertised.host.name before Kafka 9) correct and resolvable?\n",
      "ERROR:kafka.conn:DNS lookup failed for broker:29092 (AddressFamily.AF_UNSPEC)\n",
      "WARNING:kafka.conn:DNS lookup failed for broker:29092, exception was [Errno -3] Temporary failure in name resolution. Is your advertised.listeners (called advertised.host.name before Kafka 9) correct and resolvable?\n",
      "ERROR:kafka.conn:DNS lookup failed for broker:29092 (AddressFamily.AF_UNSPEC)\n",
      "WARNING:kafka.conn:DNS lookup failed for broker:29092, exception was [Errno -3] Temporary failure in name resolution. Is your advertised.listeners (called advertised.host.name before Kafka 9) correct and resolvable?\n",
      "ERROR:kafka.conn:DNS lookup failed for broker:29092 (AddressFamily.AF_UNSPEC)\n",
      "WARNING:kafka.conn:DNS lookup failed for broker:29092, exception was [Errno -3] Temporary failure in name resolution. Is your advertised.listeners (called advertised.host.name before Kafka 9) correct and resolvable?\n",
      "ERROR:kafka.conn:DNS lookup failed for broker:29092 (AddressFamily.AF_UNSPEC)\n",
      "WARNING:kafka.conn:DNS lookup failed for broker:29092, exception was [Errno -3] Temporary failure in name resolution. Is your advertised.listeners (called advertised.host.name before Kafka 9) correct and resolvable?\n",
      "ERROR:kafka.conn:DNS lookup failed for broker:29092 (AddressFamily.AF_UNSPEC)\n",
      "WARNING:kafka.conn:DNS lookup failed for broker:29092, exception was [Errno -3] Temporary failure in name resolution. Is your advertised.listeners (called advertised.host.name before Kafka 9) correct and resolvable?\n",
      "ERROR:kafka.conn:DNS lookup failed for broker:29092 (AddressFamily.AF_UNSPEC)\n",
      "WARNING:kafka.conn:DNS lookup failed for broker:29092, exception was [Errno -3] Temporary failure in name resolution. Is your advertised.listeners (called advertised.host.name before Kafka 9) correct and resolvable?\n",
      "ERROR:kafka.conn:DNS lookup failed for broker:29092 (AddressFamily.AF_UNSPEC)\n",
      "WARNING:kafka.conn:DNS lookup failed for broker:29092, exception was [Errno -3] Temporary failure in name resolution. Is your advertised.listeners (called advertised.host.name before Kafka 9) correct and resolvable?\n",
      "ERROR:kafka.conn:DNS lookup failed for broker:29092 (AddressFamily.AF_UNSPEC)\n",
      "WARNING:kafka.conn:DNS lookup failed for broker:29092, exception was [Errno -3] Temporary failure in name resolution. Is your advertised.listeners (called advertised.host.name before Kafka 9) correct and resolvable?\n",
      "ERROR:kafka.conn:DNS lookup failed for broker:29092 (AddressFamily.AF_UNSPEC)\n",
      "WARNING:kafka.conn:DNS lookup failed for broker:29092, exception was [Errno -3] Temporary failure in name resolution. Is your advertised.listeners (called advertised.host.name before Kafka 9) correct and resolvable?\n",
      "ERROR:kafka.conn:DNS lookup failed for broker:29092 (AddressFamily.AF_UNSPEC)\n",
      "WARNING:kafka.conn:DNS lookup failed for broker:29092, exception was [Errno -3] Temporary failure in name resolution. Is your advertised.listeners (called advertised.host.name before Kafka 9) correct and resolvable?\n",
      "ERROR:kafka.conn:DNS lookup failed for broker:29092 (AddressFamily.AF_UNSPEC)\n",
      "WARNING:kafka.conn:DNS lookup failed for broker:29092, exception was [Errno -3] Temporary failure in name resolution. Is your advertised.listeners (called advertised.host.name before Kafka 9) correct and resolvable?\n",
      "ERROR:kafka.conn:DNS lookup failed for broker:29092 (AddressFamily.AF_UNSPEC)\n",
      "WARNING:kafka.conn:DNS lookup failed for broker:29092, exception was [Errno -3] Temporary failure in name resolution. Is your advertised.listeners (called advertised.host.name before Kafka 9) correct and resolvable?\n",
      "ERROR:kafka.conn:DNS lookup failed for broker:29092 (AddressFamily.AF_UNSPEC)\n",
      "WARNING:kafka.conn:DNS lookup failed for broker:29092, exception was [Errno -3] Temporary failure in name resolution. Is your advertised.listeners (called advertised.host.name before Kafka 9) correct and resolvable?\n",
      "ERROR:kafka.conn:DNS lookup failed for broker:29092 (AddressFamily.AF_UNSPEC)\n"
     ]
    },
    {
     "name": "stderr",
     "output_type": "stream",
     "text": [
      "WARNING:kafka.conn:DNS lookup failed for broker:29092, exception was [Errno -3] Temporary failure in name resolution. Is your advertised.listeners (called advertised.host.name before Kafka 9) correct and resolvable?\n",
      "ERROR:kafka.conn:DNS lookup failed for broker:29092 (AddressFamily.AF_UNSPEC)\n",
      "WARNING:kafka.conn:DNS lookup failed for broker:29092, exception was [Errno -3] Temporary failure in name resolution. Is your advertised.listeners (called advertised.host.name before Kafka 9) correct and resolvable?\n",
      "ERROR:kafka.conn:DNS lookup failed for broker:29092 (AddressFamily.AF_UNSPEC)\n",
      "WARNING:kafka.conn:DNS lookup failed for broker:29092, exception was [Errno -3] Temporary failure in name resolution. Is your advertised.listeners (called advertised.host.name before Kafka 9) correct and resolvable?\n",
      "ERROR:kafka.conn:DNS lookup failed for broker:29092 (AddressFamily.AF_UNSPEC)\n",
      "WARNING:kafka.conn:DNS lookup failed for broker:29092, exception was [Errno -3] Temporary failure in name resolution. Is your advertised.listeners (called advertised.host.name before Kafka 9) correct and resolvable?\n",
      "ERROR:kafka.conn:DNS lookup failed for broker:29092 (AddressFamily.AF_UNSPEC)\n",
      "WARNING:kafka.conn:DNS lookup failed for broker:29092, exception was [Errno -3] Temporary failure in name resolution. Is your advertised.listeners (called advertised.host.name before Kafka 9) correct and resolvable?\n",
      "ERROR:kafka.conn:DNS lookup failed for broker:29092 (AddressFamily.AF_UNSPEC)\n",
      "WARNING:kafka.conn:DNS lookup failed for broker:29092, exception was [Errno -3] Temporary failure in name resolution. Is your advertised.listeners (called advertised.host.name before Kafka 9) correct and resolvable?\n",
      "ERROR:kafka.conn:DNS lookup failed for broker:29092 (AddressFamily.AF_UNSPEC)\n",
      "WARNING:kafka.conn:DNS lookup failed for broker:29092, exception was [Errno -3] Temporary failure in name resolution. Is your advertised.listeners (called advertised.host.name before Kafka 9) correct and resolvable?\n",
      "ERROR:kafka.conn:DNS lookup failed for broker:29092 (AddressFamily.AF_UNSPEC)\n",
      "WARNING:kafka.conn:DNS lookup failed for broker:29092, exception was [Errno -3] Temporary failure in name resolution. Is your advertised.listeners (called advertised.host.name before Kafka 9) correct and resolvable?\n",
      "ERROR:kafka.conn:DNS lookup failed for broker:29092 (AddressFamily.AF_UNSPEC)\n",
      "WARNING:kafka.conn:DNS lookup failed for broker:29092, exception was [Errno -3] Temporary failure in name resolution. Is your advertised.listeners (called advertised.host.name before Kafka 9) correct and resolvable?\n",
      "ERROR:kafka.conn:DNS lookup failed for broker:29092 (AddressFamily.AF_UNSPEC)\n",
      "WARNING:kafka.conn:DNS lookup failed for broker:29092, exception was [Errno -3] Temporary failure in name resolution. Is your advertised.listeners (called advertised.host.name before Kafka 9) correct and resolvable?\n",
      "ERROR:kafka.conn:DNS lookup failed for broker:29092 (AddressFamily.AF_UNSPEC)\n",
      "WARNING:kafka.conn:DNS lookup failed for broker:29092, exception was [Errno -3] Temporary failure in name resolution. Is your advertised.listeners (called advertised.host.name before Kafka 9) correct and resolvable?\n",
      "ERROR:kafka.conn:DNS lookup failed for broker:29092 (AddressFamily.AF_UNSPEC)\n",
      "WARNING:kafka.conn:DNS lookup failed for broker:29092, exception was [Errno -3] Temporary failure in name resolution. Is your advertised.listeners (called advertised.host.name before Kafka 9) correct and resolvable?\n",
      "ERROR:kafka.conn:DNS lookup failed for broker:29092 (AddressFamily.AF_UNSPEC)\n",
      "WARNING:kafka.conn:DNS lookup failed for broker:29092, exception was [Errno -3] Temporary failure in name resolution. Is your advertised.listeners (called advertised.host.name before Kafka 9) correct and resolvable?\n",
      "ERROR:kafka.conn:DNS lookup failed for broker:29092 (AddressFamily.AF_UNSPEC)\n",
      "WARNING:kafka.conn:DNS lookup failed for broker:29092, exception was [Errno -3] Temporary failure in name resolution. Is your advertised.listeners (called advertised.host.name before Kafka 9) correct and resolvable?\n",
      "ERROR:kafka.conn:DNS lookup failed for broker:29092 (AddressFamily.AF_UNSPEC)\n",
      "WARNING:kafka.conn:DNS lookup failed for broker:29092, exception was [Errno -3] Temporary failure in name resolution. Is your advertised.listeners (called advertised.host.name before Kafka 9) correct and resolvable?\n",
      "ERROR:kafka.conn:DNS lookup failed for broker:29092 (AddressFamily.AF_UNSPEC)\n",
      "WARNING:kafka.conn:DNS lookup failed for broker:29092, exception was [Errno -3] Temporary failure in name resolution. Is your advertised.listeners (called advertised.host.name before Kafka 9) correct and resolvable?\n",
      "ERROR:kafka.conn:DNS lookup failed for broker:29092 (AddressFamily.AF_UNSPEC)\n",
      "WARNING:kafka.conn:DNS lookup failed for broker:29092, exception was [Errno -3] Temporary failure in name resolution. Is your advertised.listeners (called advertised.host.name before Kafka 9) correct and resolvable?\n",
      "ERROR:kafka.conn:DNS lookup failed for broker:29092 (AddressFamily.AF_UNSPEC)\n",
      "WARNING:kafka.conn:DNS lookup failed for broker:29092, exception was [Errno -3] Temporary failure in name resolution. Is your advertised.listeners (called advertised.host.name before Kafka 9) correct and resolvable?\n",
      "ERROR:kafka.conn:DNS lookup failed for broker:29092 (AddressFamily.AF_UNSPEC)\n",
      "WARNING:kafka.conn:DNS lookup failed for broker:29092, exception was [Errno -3] Temporary failure in name resolution. Is your advertised.listeners (called advertised.host.name before Kafka 9) correct and resolvable?\n",
      "ERROR:kafka.conn:DNS lookup failed for broker:29092 (AddressFamily.AF_UNSPEC)\n",
      "WARNING:kafka.conn:DNS lookup failed for broker:29092, exception was [Errno -3] Temporary failure in name resolution. Is your advertised.listeners (called advertised.host.name before Kafka 9) correct and resolvable?\n",
      "ERROR:kafka.conn:DNS lookup failed for broker:29092 (AddressFamily.AF_UNSPEC)\n",
      "WARNING:kafka.conn:DNS lookup failed for broker:29092, exception was [Errno -3] Temporary failure in name resolution. Is your advertised.listeners (called advertised.host.name before Kafka 9) correct and resolvable?\n",
      "ERROR:kafka.conn:DNS lookup failed for broker:29092 (AddressFamily.AF_UNSPEC)\n",
      "WARNING:kafka.conn:DNS lookup failed for broker:29092, exception was [Errno -3] Temporary failure in name resolution. Is your advertised.listeners (called advertised.host.name before Kafka 9) correct and resolvable?\n",
      "ERROR:kafka.conn:DNS lookup failed for broker:29092 (AddressFamily.AF_UNSPEC)\n",
      "WARNING:kafka.conn:DNS lookup failed for broker:29092, exception was [Errno -3] Temporary failure in name resolution. Is your advertised.listeners (called advertised.host.name before Kafka 9) correct and resolvable?\n",
      "ERROR:kafka.conn:DNS lookup failed for broker:29092 (AddressFamily.AF_UNSPEC)\n",
      "WARNING:kafka.conn:DNS lookup failed for broker:29092, exception was [Errno -3] Temporary failure in name resolution. Is your advertised.listeners (called advertised.host.name before Kafka 9) correct and resolvable?\n",
      "ERROR:kafka.conn:DNS lookup failed for broker:29092 (AddressFamily.AF_UNSPEC)\n",
      "WARNING:kafka.conn:DNS lookup failed for broker:29092, exception was [Errno -3] Temporary failure in name resolution. Is your advertised.listeners (called advertised.host.name before Kafka 9) correct and resolvable?\n",
      "ERROR:kafka.conn:DNS lookup failed for broker:29092 (AddressFamily.AF_UNSPEC)\n",
      "WARNING:kafka.conn:DNS lookup failed for broker:29092, exception was [Errno -3] Temporary failure in name resolution. Is your advertised.listeners (called advertised.host.name before Kafka 9) correct and resolvable?\n",
      "ERROR:kafka.conn:DNS lookup failed for broker:29092 (AddressFamily.AF_UNSPEC)\n",
      "WARNING:kafka.conn:DNS lookup failed for broker:29092, exception was [Errno -3] Temporary failure in name resolution. Is your advertised.listeners (called advertised.host.name before Kafka 9) correct and resolvable?\n",
      "ERROR:kafka.conn:DNS lookup failed for broker:29092 (AddressFamily.AF_UNSPEC)\n",
      "WARNING:kafka.conn:DNS lookup failed for broker:29092, exception was [Errno -3] Temporary failure in name resolution. Is your advertised.listeners (called advertised.host.name before Kafka 9) correct and resolvable?\n",
      "ERROR:kafka.conn:DNS lookup failed for broker:29092 (AddressFamily.AF_UNSPEC)\n"
     ]
    },
    {
     "name": "stderr",
     "output_type": "stream",
     "text": [
      "WARNING:kafka.conn:DNS lookup failed for broker:29092, exception was [Errno -3] Temporary failure in name resolution. Is your advertised.listeners (called advertised.host.name before Kafka 9) correct and resolvable?\n",
      "ERROR:kafka.conn:DNS lookup failed for broker:29092 (AddressFamily.AF_UNSPEC)\n",
      "WARNING:kafka.conn:DNS lookup failed for broker:29092, exception was [Errno -3] Temporary failure in name resolution. Is your advertised.listeners (called advertised.host.name before Kafka 9) correct and resolvable?\n",
      "ERROR:kafka.conn:DNS lookup failed for broker:29092 (AddressFamily.AF_UNSPEC)\n",
      "WARNING:kafka.conn:DNS lookup failed for broker:29092, exception was [Errno -3] Temporary failure in name resolution. Is your advertised.listeners (called advertised.host.name before Kafka 9) correct and resolvable?\n",
      "ERROR:kafka.conn:DNS lookup failed for broker:29092 (AddressFamily.AF_UNSPEC)\n",
      "WARNING:kafka.conn:DNS lookup failed for broker:29092, exception was [Errno -3] Temporary failure in name resolution. Is your advertised.listeners (called advertised.host.name before Kafka 9) correct and resolvable?\n",
      "ERROR:kafka.conn:DNS lookup failed for broker:29092 (AddressFamily.AF_UNSPEC)\n",
      "WARNING:kafka.conn:DNS lookup failed for broker:29092, exception was [Errno -3] Temporary failure in name resolution. Is your advertised.listeners (called advertised.host.name before Kafka 9) correct and resolvable?\n",
      "ERROR:kafka.conn:DNS lookup failed for broker:29092 (AddressFamily.AF_UNSPEC)\n",
      "WARNING:kafka.conn:DNS lookup failed for broker:29092, exception was [Errno -3] Temporary failure in name resolution. Is your advertised.listeners (called advertised.host.name before Kafka 9) correct and resolvable?\n",
      "ERROR:kafka.conn:DNS lookup failed for broker:29092 (AddressFamily.AF_UNSPEC)\n",
      "WARNING:kafka.conn:DNS lookup failed for broker:29092, exception was [Errno -3] Temporary failure in name resolution. Is your advertised.listeners (called advertised.host.name before Kafka 9) correct and resolvable?\n",
      "ERROR:kafka.conn:DNS lookup failed for broker:29092 (AddressFamily.AF_UNSPEC)\n",
      "WARNING:kafka.conn:DNS lookup failed for broker:29092, exception was [Errno -3] Temporary failure in name resolution. Is your advertised.listeners (called advertised.host.name before Kafka 9) correct and resolvable?\n",
      "ERROR:kafka.conn:DNS lookup failed for broker:29092 (AddressFamily.AF_UNSPEC)\n",
      "WARNING:kafka.conn:DNS lookup failed for broker:29092, exception was [Errno -3] Temporary failure in name resolution. Is your advertised.listeners (called advertised.host.name before Kafka 9) correct and resolvable?\n",
      "ERROR:kafka.conn:DNS lookup failed for broker:29092 (AddressFamily.AF_UNSPEC)\n",
      "WARNING:kafka.conn:DNS lookup failed for broker:29092, exception was [Errno -3] Temporary failure in name resolution. Is your advertised.listeners (called advertised.host.name before Kafka 9) correct and resolvable?\n",
      "ERROR:kafka.conn:DNS lookup failed for broker:29092 (AddressFamily.AF_UNSPEC)\n",
      "WARNING:kafka.conn:DNS lookup failed for broker:29092, exception was [Errno -3] Temporary failure in name resolution. Is your advertised.listeners (called advertised.host.name before Kafka 9) correct and resolvable?\n",
      "ERROR:kafka.conn:DNS lookup failed for broker:29092 (AddressFamily.AF_UNSPEC)\n",
      "WARNING:kafka.conn:DNS lookup failed for broker:29092, exception was [Errno -3] Temporary failure in name resolution. Is your advertised.listeners (called advertised.host.name before Kafka 9) correct and resolvable?\n",
      "ERROR:kafka.conn:DNS lookup failed for broker:29092 (AddressFamily.AF_UNSPEC)\n",
      "WARNING:kafka.conn:DNS lookup failed for broker:29092, exception was [Errno -3] Temporary failure in name resolution. Is your advertised.listeners (called advertised.host.name before Kafka 9) correct and resolvable?\n",
      "ERROR:kafka.conn:DNS lookup failed for broker:29092 (AddressFamily.AF_UNSPEC)\n",
      "WARNING:kafka.conn:DNS lookup failed for broker:29092, exception was [Errno -3] Temporary failure in name resolution. Is your advertised.listeners (called advertised.host.name before Kafka 9) correct and resolvable?\n",
      "ERROR:kafka.conn:DNS lookup failed for broker:29092 (AddressFamily.AF_UNSPEC)\n",
      "WARNING:kafka.conn:DNS lookup failed for broker:29092, exception was [Errno -3] Temporary failure in name resolution. Is your advertised.listeners (called advertised.host.name before Kafka 9) correct and resolvable?\n",
      "ERROR:kafka.conn:DNS lookup failed for broker:29092 (AddressFamily.AF_UNSPEC)\n",
      "WARNING:kafka.conn:DNS lookup failed for broker:29092, exception was [Errno -3] Temporary failure in name resolution. Is your advertised.listeners (called advertised.host.name before Kafka 9) correct and resolvable?\n",
      "ERROR:kafka.conn:DNS lookup failed for broker:29092 (AddressFamily.AF_UNSPEC)\n",
      "WARNING:kafka.conn:DNS lookup failed for broker:29092, exception was [Errno -3] Temporary failure in name resolution. Is your advertised.listeners (called advertised.host.name before Kafka 9) correct and resolvable?\n",
      "ERROR:kafka.conn:DNS lookup failed for broker:29092 (AddressFamily.AF_UNSPEC)\n",
      "WARNING:kafka.conn:DNS lookup failed for broker:29092, exception was [Errno -3] Temporary failure in name resolution. Is your advertised.listeners (called advertised.host.name before Kafka 9) correct and resolvable?\n",
      "ERROR:kafka.conn:DNS lookup failed for broker:29092 (AddressFamily.AF_UNSPEC)\n",
      "WARNING:kafka.conn:DNS lookup failed for broker:29092, exception was [Errno -3] Temporary failure in name resolution. Is your advertised.listeners (called advertised.host.name before Kafka 9) correct and resolvable?\n",
      "ERROR:kafka.conn:DNS lookup failed for broker:29092 (AddressFamily.AF_UNSPEC)\n",
      "WARNING:kafka.conn:DNS lookup failed for broker:29092, exception was [Errno -3] Temporary failure in name resolution. Is your advertised.listeners (called advertised.host.name before Kafka 9) correct and resolvable?\n",
      "ERROR:kafka.conn:DNS lookup failed for broker:29092 (AddressFamily.AF_UNSPEC)\n",
      "WARNING:kafka.conn:DNS lookup failed for broker:29092, exception was [Errno -3] Temporary failure in name resolution. Is your advertised.listeners (called advertised.host.name before Kafka 9) correct and resolvable?\n",
      "ERROR:kafka.conn:DNS lookup failed for broker:29092 (AddressFamily.AF_UNSPEC)\n",
      "WARNING:kafka.conn:DNS lookup failed for broker:29092, exception was [Errno -3] Temporary failure in name resolution. Is your advertised.listeners (called advertised.host.name before Kafka 9) correct and resolvable?\n",
      "ERROR:kafka.conn:DNS lookup failed for broker:29092 (AddressFamily.AF_UNSPEC)\n",
      "WARNING:kafka.conn:DNS lookup failed for broker:29092, exception was [Errno -3] Temporary failure in name resolution. Is your advertised.listeners (called advertised.host.name before Kafka 9) correct and resolvable?\n",
      "ERROR:kafka.conn:DNS lookup failed for broker:29092 (AddressFamily.AF_UNSPEC)\n",
      "WARNING:kafka.conn:DNS lookup failed for broker:29092, exception was [Errno -3] Temporary failure in name resolution. Is your advertised.listeners (called advertised.host.name before Kafka 9) correct and resolvable?\n",
      "ERROR:kafka.conn:DNS lookup failed for broker:29092 (AddressFamily.AF_UNSPEC)\n",
      "WARNING:kafka.conn:DNS lookup failed for broker:29092, exception was [Errno -3] Temporary failure in name resolution. Is your advertised.listeners (called advertised.host.name before Kafka 9) correct and resolvable?\n",
      "ERROR:kafka.conn:DNS lookup failed for broker:29092 (AddressFamily.AF_UNSPEC)\n",
      "WARNING:kafka.conn:DNS lookup failed for broker:29092, exception was [Errno -3] Temporary failure in name resolution. Is your advertised.listeners (called advertised.host.name before Kafka 9) correct and resolvable?\n",
      "ERROR:kafka.conn:DNS lookup failed for broker:29092 (AddressFamily.AF_UNSPEC)\n",
      "WARNING:kafka.conn:DNS lookup failed for broker:29092, exception was [Errno -3] Temporary failure in name resolution. Is your advertised.listeners (called advertised.host.name before Kafka 9) correct and resolvable?\n",
      "ERROR:kafka.conn:DNS lookup failed for broker:29092 (AddressFamily.AF_UNSPEC)\n",
      "WARNING:kafka.conn:DNS lookup failed for broker:29092, exception was [Errno -3] Temporary failure in name resolution. Is your advertised.listeners (called advertised.host.name before Kafka 9) correct and resolvable?\n",
      "ERROR:kafka.conn:DNS lookup failed for broker:29092 (AddressFamily.AF_UNSPEC)\n"
     ]
    },
    {
     "name": "stderr",
     "output_type": "stream",
     "text": [
      "WARNING:kafka.conn:DNS lookup failed for broker:29092, exception was [Errno -3] Temporary failure in name resolution. Is your advertised.listeners (called advertised.host.name before Kafka 9) correct and resolvable?\n",
      "ERROR:kafka.conn:DNS lookup failed for broker:29092 (AddressFamily.AF_UNSPEC)\n",
      "WARNING:kafka.conn:DNS lookup failed for broker:29092, exception was [Errno -3] Temporary failure in name resolution. Is your advertised.listeners (called advertised.host.name before Kafka 9) correct and resolvable?\n",
      "ERROR:kafka.conn:DNS lookup failed for broker:29092 (AddressFamily.AF_UNSPEC)\n",
      "WARNING:kafka.conn:DNS lookup failed for broker:29092, exception was [Errno -3] Temporary failure in name resolution. Is your advertised.listeners (called advertised.host.name before Kafka 9) correct and resolvable?\n",
      "ERROR:kafka.conn:DNS lookup failed for broker:29092 (AddressFamily.AF_UNSPEC)\n",
      "WARNING:kafka.conn:DNS lookup failed for broker:29092, exception was [Errno -3] Temporary failure in name resolution. Is your advertised.listeners (called advertised.host.name before Kafka 9) correct and resolvable?\n",
      "ERROR:kafka.conn:DNS lookup failed for broker:29092 (AddressFamily.AF_UNSPEC)\n",
      "WARNING:kafka.conn:DNS lookup failed for broker:29092, exception was [Errno -3] Temporary failure in name resolution. Is your advertised.listeners (called advertised.host.name before Kafka 9) correct and resolvable?\n",
      "ERROR:kafka.conn:DNS lookup failed for broker:29092 (AddressFamily.AF_UNSPEC)\n",
      "WARNING:kafka.conn:DNS lookup failed for broker:29092, exception was [Errno -3] Temporary failure in name resolution. Is your advertised.listeners (called advertised.host.name before Kafka 9) correct and resolvable?\n",
      "ERROR:kafka.conn:DNS lookup failed for broker:29092 (AddressFamily.AF_UNSPEC)\n",
      "WARNING:kafka.conn:DNS lookup failed for broker:29092, exception was [Errno -3] Temporary failure in name resolution. Is your advertised.listeners (called advertised.host.name before Kafka 9) correct and resolvable?\n",
      "ERROR:kafka.conn:DNS lookup failed for broker:29092 (AddressFamily.AF_UNSPEC)\n",
      "WARNING:kafka.conn:DNS lookup failed for broker:29092, exception was [Errno -3] Temporary failure in name resolution. Is your advertised.listeners (called advertised.host.name before Kafka 9) correct and resolvable?\n",
      "ERROR:kafka.conn:DNS lookup failed for broker:29092 (AddressFamily.AF_UNSPEC)\n",
      "WARNING:kafka.conn:DNS lookup failed for broker:29092, exception was [Errno -3] Temporary failure in name resolution. Is your advertised.listeners (called advertised.host.name before Kafka 9) correct and resolvable?\n",
      "ERROR:kafka.conn:DNS lookup failed for broker:29092 (AddressFamily.AF_UNSPEC)\n",
      "WARNING:kafka.conn:DNS lookup failed for broker:29092, exception was [Errno -3] Temporary failure in name resolution. Is your advertised.listeners (called advertised.host.name before Kafka 9) correct and resolvable?\n",
      "ERROR:kafka.conn:DNS lookup failed for broker:29092 (AddressFamily.AF_UNSPEC)\n",
      "WARNING:kafka.conn:DNS lookup failed for broker:29092, exception was [Errno -3] Temporary failure in name resolution. Is your advertised.listeners (called advertised.host.name before Kafka 9) correct and resolvable?\n",
      "ERROR:kafka.conn:DNS lookup failed for broker:29092 (AddressFamily.AF_UNSPEC)\n",
      "WARNING:kafka.conn:DNS lookup failed for broker:29092, exception was [Errno -3] Temporary failure in name resolution. Is your advertised.listeners (called advertised.host.name before Kafka 9) correct and resolvable?\n",
      "ERROR:kafka.conn:DNS lookup failed for broker:29092 (AddressFamily.AF_UNSPEC)\n",
      "WARNING:kafka.conn:DNS lookup failed for broker:29092, exception was [Errno -3] Temporary failure in name resolution. Is your advertised.listeners (called advertised.host.name before Kafka 9) correct and resolvable?\n",
      "ERROR:kafka.conn:DNS lookup failed for broker:29092 (AddressFamily.AF_UNSPEC)\n",
      "WARNING:kafka.conn:DNS lookup failed for broker:29092, exception was [Errno -3] Temporary failure in name resolution. Is your advertised.listeners (called advertised.host.name before Kafka 9) correct and resolvable?\n",
      "ERROR:kafka.conn:DNS lookup failed for broker:29092 (AddressFamily.AF_UNSPEC)\n",
      "WARNING:kafka.conn:DNS lookup failed for broker:29092, exception was [Errno -3] Temporary failure in name resolution. Is your advertised.listeners (called advertised.host.name before Kafka 9) correct and resolvable?\n",
      "ERROR:kafka.conn:DNS lookup failed for broker:29092 (AddressFamily.AF_UNSPEC)\n",
      "WARNING:kafka.conn:DNS lookup failed for broker:29092, exception was [Errno -3] Temporary failure in name resolution. Is your advertised.listeners (called advertised.host.name before Kafka 9) correct and resolvable?\n",
      "ERROR:kafka.conn:DNS lookup failed for broker:29092 (AddressFamily.AF_UNSPEC)\n",
      "WARNING:kafka.conn:DNS lookup failed for broker:29092, exception was [Errno -3] Temporary failure in name resolution. Is your advertised.listeners (called advertised.host.name before Kafka 9) correct and resolvable?\n",
      "ERROR:kafka.conn:DNS lookup failed for broker:29092 (AddressFamily.AF_UNSPEC)\n",
      "WARNING:kafka.conn:DNS lookup failed for broker:29092, exception was [Errno -3] Temporary failure in name resolution. Is your advertised.listeners (called advertised.host.name before Kafka 9) correct and resolvable?\n",
      "ERROR:kafka.conn:DNS lookup failed for broker:29092 (AddressFamily.AF_UNSPEC)\n",
      "WARNING:kafka.conn:DNS lookup failed for broker:29092, exception was [Errno -3] Temporary failure in name resolution. Is your advertised.listeners (called advertised.host.name before Kafka 9) correct and resolvable?\n",
      "ERROR:kafka.conn:DNS lookup failed for broker:29092 (AddressFamily.AF_UNSPEC)\n",
      "WARNING:kafka.conn:DNS lookup failed for broker:29092, exception was [Errno -3] Temporary failure in name resolution. Is your advertised.listeners (called advertised.host.name before Kafka 9) correct and resolvable?\n",
      "ERROR:kafka.conn:DNS lookup failed for broker:29092 (AddressFamily.AF_UNSPEC)\n",
      "WARNING:kafka.conn:DNS lookup failed for broker:29092, exception was [Errno -3] Temporary failure in name resolution. Is your advertised.listeners (called advertised.host.name before Kafka 9) correct and resolvable?\n",
      "ERROR:kafka.conn:DNS lookup failed for broker:29092 (AddressFamily.AF_UNSPEC)\n",
      "WARNING:kafka.conn:DNS lookup failed for broker:29092, exception was [Errno -3] Temporary failure in name resolution. Is your advertised.listeners (called advertised.host.name before Kafka 9) correct and resolvable?\n",
      "ERROR:kafka.conn:DNS lookup failed for broker:29092 (AddressFamily.AF_UNSPEC)\n",
      "WARNING:kafka.conn:DNS lookup failed for broker:29092, exception was [Errno -3] Temporary failure in name resolution. Is your advertised.listeners (called advertised.host.name before Kafka 9) correct and resolvable?\n",
      "ERROR:kafka.conn:DNS lookup failed for broker:29092 (AddressFamily.AF_UNSPEC)\n",
      "WARNING:kafka.conn:DNS lookup failed for broker:29092, exception was [Errno -3] Temporary failure in name resolution. Is your advertised.listeners (called advertised.host.name before Kafka 9) correct and resolvable?\n",
      "ERROR:kafka.conn:DNS lookup failed for broker:29092 (AddressFamily.AF_UNSPEC)\n",
      "WARNING:kafka.conn:DNS lookup failed for broker:29092, exception was [Errno -3] Temporary failure in name resolution. Is your advertised.listeners (called advertised.host.name before Kafka 9) correct and resolvable?\n",
      "ERROR:kafka.conn:DNS lookup failed for broker:29092 (AddressFamily.AF_UNSPEC)\n",
      "WARNING:kafka.conn:DNS lookup failed for broker:29092, exception was [Errno -3] Temporary failure in name resolution. Is your advertised.listeners (called advertised.host.name before Kafka 9) correct and resolvable?\n",
      "ERROR:kafka.conn:DNS lookup failed for broker:29092 (AddressFamily.AF_UNSPEC)\n",
      "WARNING:kafka.conn:DNS lookup failed for broker:29092, exception was [Errno -3] Temporary failure in name resolution. Is your advertised.listeners (called advertised.host.name before Kafka 9) correct and resolvable?\n",
      "ERROR:kafka.conn:DNS lookup failed for broker:29092 (AddressFamily.AF_UNSPEC)\n",
      "WARNING:kafka.conn:DNS lookup failed for broker:29092, exception was [Errno -3] Temporary failure in name resolution. Is your advertised.listeners (called advertised.host.name before Kafka 9) correct and resolvable?\n",
      "ERROR:kafka.conn:DNS lookup failed for broker:29092 (AddressFamily.AF_UNSPEC)\n"
     ]
    },
    {
     "name": "stderr",
     "output_type": "stream",
     "text": [
      "WARNING:kafka.conn:DNS lookup failed for broker:29092, exception was [Errno -2] Name or service not known. Is your advertised.listeners (called advertised.host.name before Kafka 9) correct and resolvable?\n",
      "ERROR:kafka.conn:DNS lookup failed for broker:29092 (AddressFamily.AF_UNSPEC)\n",
      "WARNING:kafka.conn:DNS lookup failed for broker:29092, exception was [Errno -2] Name or service not known. Is your advertised.listeners (called advertised.host.name before Kafka 9) correct and resolvable?\n",
      "ERROR:kafka.conn:DNS lookup failed for broker:29092 (AddressFamily.AF_UNSPEC)\n",
      "WARNING:kafka.conn:DNS lookup failed for broker:29092, exception was [Errno -2] Name or service not known. Is your advertised.listeners (called advertised.host.name before Kafka 9) correct and resolvable?\n",
      "ERROR:kafka.conn:DNS lookup failed for broker:29092 (AddressFamily.AF_UNSPEC)\n",
      "WARNING:kafka.conn:DNS lookup failed for broker:29092, exception was [Errno -2] Name or service not known. Is your advertised.listeners (called advertised.host.name before Kafka 9) correct and resolvable?\n",
      "ERROR:kafka.conn:DNS lookup failed for broker:29092 (AddressFamily.AF_UNSPEC)\n",
      "WARNING:kafka.conn:DNS lookup failed for broker:29092, exception was [Errno -2] Name or service not known. Is your advertised.listeners (called advertised.host.name before Kafka 9) correct and resolvable?\n",
      "ERROR:kafka.conn:DNS lookup failed for broker:29092 (AddressFamily.AF_UNSPEC)\n",
      "WARNING:kafka.conn:DNS lookup failed for broker:29092, exception was [Errno -2] Name or service not known. Is your advertised.listeners (called advertised.host.name before Kafka 9) correct and resolvable?\n",
      "ERROR:kafka.conn:DNS lookup failed for broker:29092 (AddressFamily.AF_UNSPEC)\n",
      "WARNING:kafka.conn:DNS lookup failed for broker:29092, exception was [Errno -2] Name or service not known. Is your advertised.listeners (called advertised.host.name before Kafka 9) correct and resolvable?\n",
      "ERROR:kafka.conn:DNS lookup failed for broker:29092 (AddressFamily.AF_UNSPEC)\n",
      "WARNING:kafka.conn:DNS lookup failed for broker:29092, exception was [Errno -2] Name or service not known. Is your advertised.listeners (called advertised.host.name before Kafka 9) correct and resolvable?\n",
      "ERROR:kafka.conn:DNS lookup failed for broker:29092 (AddressFamily.AF_UNSPEC)\n",
      "WARNING:kafka.conn:DNS lookup failed for broker:29092, exception was [Errno -2] Name or service not known. Is your advertised.listeners (called advertised.host.name before Kafka 9) correct and resolvable?\n",
      "ERROR:kafka.conn:DNS lookup failed for broker:29092 (AddressFamily.AF_UNSPEC)\n",
      "WARNING:kafka.conn:DNS lookup failed for broker:29092, exception was [Errno -2] Name or service not known. Is your advertised.listeners (called advertised.host.name before Kafka 9) correct and resolvable?\n",
      "ERROR:kafka.conn:DNS lookup failed for broker:29092 (AddressFamily.AF_UNSPEC)\n",
      "WARNING:kafka.conn:DNS lookup failed for broker:29092, exception was [Errno -2] Name or service not known. Is your advertised.listeners (called advertised.host.name before Kafka 9) correct and resolvable?\n",
      "ERROR:kafka.conn:DNS lookup failed for broker:29092 (AddressFamily.AF_UNSPEC)\n",
      "WARNING:kafka.conn:DNS lookup failed for broker:29092, exception was [Errno -2] Name or service not known. Is your advertised.listeners (called advertised.host.name before Kafka 9) correct and resolvable?\n",
      "ERROR:kafka.conn:DNS lookup failed for broker:29092 (AddressFamily.AF_UNSPEC)\n",
      "WARNING:kafka.conn:DNS lookup failed for broker:29092, exception was [Errno -2] Name or service not known. Is your advertised.listeners (called advertised.host.name before Kafka 9) correct and resolvable?\n",
      "ERROR:kafka.conn:DNS lookup failed for broker:29092 (AddressFamily.AF_UNSPEC)\n",
      "WARNING:kafka.conn:DNS lookup failed for broker:29092, exception was [Errno -2] Name or service not known. Is your advertised.listeners (called advertised.host.name before Kafka 9) correct and resolvable?\n",
      "ERROR:kafka.conn:DNS lookup failed for broker:29092 (AddressFamily.AF_UNSPEC)\n",
      "WARNING:kafka.conn:DNS lookup failed for broker:29092, exception was [Errno -2] Name or service not known. Is your advertised.listeners (called advertised.host.name before Kafka 9) correct and resolvable?\n",
      "ERROR:kafka.conn:DNS lookup failed for broker:29092 (AddressFamily.AF_UNSPEC)\n",
      "WARNING:kafka.conn:DNS lookup failed for broker:29092, exception was [Errno -2] Name or service not known. Is your advertised.listeners (called advertised.host.name before Kafka 9) correct and resolvable?\n",
      "ERROR:kafka.conn:DNS lookup failed for broker:29092 (AddressFamily.AF_UNSPEC)\n",
      "WARNING:kafka.conn:DNS lookup failed for broker:29092, exception was [Errno -2] Name or service not known. Is your advertised.listeners (called advertised.host.name before Kafka 9) correct and resolvable?\n",
      "ERROR:kafka.conn:DNS lookup failed for broker:29092 (AddressFamily.AF_UNSPEC)\n",
      "WARNING:kafka.conn:DNS lookup failed for broker:29092, exception was [Errno -2] Name or service not known. Is your advertised.listeners (called advertised.host.name before Kafka 9) correct and resolvable?\n",
      "ERROR:kafka.conn:DNS lookup failed for broker:29092 (AddressFamily.AF_UNSPEC)\n",
      "WARNING:kafka.conn:DNS lookup failed for broker:29092, exception was [Errno -2] Name or service not known. Is your advertised.listeners (called advertised.host.name before Kafka 9) correct and resolvable?\n",
      "ERROR:kafka.conn:DNS lookup failed for broker:29092 (AddressFamily.AF_UNSPEC)\n",
      "WARNING:kafka.conn:DNS lookup failed for broker:29092, exception was [Errno -2] Name or service not known. Is your advertised.listeners (called advertised.host.name before Kafka 9) correct and resolvable?\n",
      "ERROR:kafka.conn:DNS lookup failed for broker:29092 (AddressFamily.AF_UNSPEC)\n",
      "WARNING:kafka.conn:DNS lookup failed for broker:29092, exception was [Errno -2] Name or service not known. Is your advertised.listeners (called advertised.host.name before Kafka 9) correct and resolvable?\n",
      "ERROR:kafka.conn:DNS lookup failed for broker:29092 (AddressFamily.AF_UNSPEC)\n",
      "WARNING:kafka.conn:DNS lookup failed for broker:29092, exception was [Errno -2] Name or service not known. Is your advertised.listeners (called advertised.host.name before Kafka 9) correct and resolvable?\n",
      "ERROR:kafka.conn:DNS lookup failed for broker:29092 (AddressFamily.AF_UNSPEC)\n",
      "WARNING:kafka.conn:DNS lookup failed for broker:29092, exception was [Errno -2] Name or service not known. Is your advertised.listeners (called advertised.host.name before Kafka 9) correct and resolvable?\n",
      "ERROR:kafka.conn:DNS lookup failed for broker:29092 (AddressFamily.AF_UNSPEC)\n",
      "WARNING:kafka.conn:DNS lookup failed for broker:29092, exception was [Errno -2] Name or service not known. Is your advertised.listeners (called advertised.host.name before Kafka 9) correct and resolvable?\n",
      "ERROR:kafka.conn:DNS lookup failed for broker:29092 (AddressFamily.AF_UNSPEC)\n",
      "WARNING:kafka.conn:DNS lookup failed for broker:29092, exception was [Errno -2] Name or service not known. Is your advertised.listeners (called advertised.host.name before Kafka 9) correct and resolvable?\n",
      "ERROR:kafka.conn:DNS lookup failed for broker:29092 (AddressFamily.AF_UNSPEC)\n",
      "WARNING:kafka.conn:DNS lookup failed for broker:29092, exception was [Errno -2] Name or service not known. Is your advertised.listeners (called advertised.host.name before Kafka 9) correct and resolvable?\n",
      "ERROR:kafka.conn:DNS lookup failed for broker:29092 (AddressFamily.AF_UNSPEC)\n",
      "WARNING:kafka.conn:DNS lookup failed for broker:29092, exception was [Errno -2] Name or service not known. Is your advertised.listeners (called advertised.host.name before Kafka 9) correct and resolvable?\n",
      "ERROR:kafka.conn:DNS lookup failed for broker:29092 (AddressFamily.AF_UNSPEC)\n",
      "WARNING:kafka.conn:DNS lookup failed for broker:29092, exception was [Errno -2] Name or service not known. Is your advertised.listeners (called advertised.host.name before Kafka 9) correct and resolvable?\n",
      "ERROR:kafka.conn:DNS lookup failed for broker:29092 (AddressFamily.AF_UNSPEC)\n",
      "WARNING:kafka.conn:DNS lookup failed for broker:29092, exception was [Errno -2] Name or service not known. Is your advertised.listeners (called advertised.host.name before Kafka 9) correct and resolvable?\n",
      "ERROR:kafka.conn:DNS lookup failed for broker:29092 (AddressFamily.AF_UNSPEC)\n"
     ]
    },
    {
     "name": "stderr",
     "output_type": "stream",
     "text": [
      "WARNING:kafka.conn:DNS lookup failed for broker:29092, exception was [Errno -2] Name or service not known. Is your advertised.listeners (called advertised.host.name before Kafka 9) correct and resolvable?\n",
      "ERROR:kafka.conn:DNS lookup failed for broker:29092 (AddressFamily.AF_UNSPEC)\n",
      "WARNING:kafka.conn:DNS lookup failed for broker:29092, exception was [Errno -2] Name or service not known. Is your advertised.listeners (called advertised.host.name before Kafka 9) correct and resolvable?\n",
      "ERROR:kafka.conn:DNS lookup failed for broker:29092 (AddressFamily.AF_UNSPEC)\n",
      "WARNING:kafka.conn:DNS lookup failed for broker:29092, exception was [Errno -2] Name or service not known. Is your advertised.listeners (called advertised.host.name before Kafka 9) correct and resolvable?\n",
      "ERROR:kafka.conn:DNS lookup failed for broker:29092 (AddressFamily.AF_UNSPEC)\n",
      "WARNING:kafka.conn:DNS lookup failed for broker:29092, exception was [Errno -2] Name or service not known. Is your advertised.listeners (called advertised.host.name before Kafka 9) correct and resolvable?\n",
      "ERROR:kafka.conn:DNS lookup failed for broker:29092 (AddressFamily.AF_UNSPEC)\n",
      "WARNING:kafka.conn:DNS lookup failed for broker:29092, exception was [Errno -2] Name or service not known. Is your advertised.listeners (called advertised.host.name before Kafka 9) correct and resolvable?\n",
      "ERROR:kafka.conn:DNS lookup failed for broker:29092 (AddressFamily.AF_UNSPEC)\n",
      "WARNING:kafka.conn:DNS lookup failed for broker:29092, exception was [Errno -2] Name or service not known. Is your advertised.listeners (called advertised.host.name before Kafka 9) correct and resolvable?\n",
      "ERROR:kafka.conn:DNS lookup failed for broker:29092 (AddressFamily.AF_UNSPEC)\n",
      "WARNING:kafka.conn:DNS lookup failed for broker:29092, exception was [Errno -2] Name or service not known. Is your advertised.listeners (called advertised.host.name before Kafka 9) correct and resolvable?\n",
      "ERROR:kafka.conn:DNS lookup failed for broker:29092 (AddressFamily.AF_UNSPEC)\n",
      "WARNING:kafka.conn:DNS lookup failed for broker:29092, exception was [Errno -2] Name or service not known. Is your advertised.listeners (called advertised.host.name before Kafka 9) correct and resolvable?\n",
      "ERROR:kafka.conn:DNS lookup failed for broker:29092 (AddressFamily.AF_UNSPEC)\n",
      "WARNING:kafka.conn:DNS lookup failed for broker:29092, exception was [Errno -2] Name or service not known. Is your advertised.listeners (called advertised.host.name before Kafka 9) correct and resolvable?\n",
      "ERROR:kafka.conn:DNS lookup failed for broker:29092 (AddressFamily.AF_UNSPEC)\n",
      "WARNING:kafka.conn:DNS lookup failed for broker:29092, exception was [Errno -2] Name or service not known. Is your advertised.listeners (called advertised.host.name before Kafka 9) correct and resolvable?\n",
      "ERROR:kafka.conn:DNS lookup failed for broker:29092 (AddressFamily.AF_UNSPEC)\n",
      "WARNING:kafka.conn:DNS lookup failed for broker:29092, exception was [Errno -2] Name or service not known. Is your advertised.listeners (called advertised.host.name before Kafka 9) correct and resolvable?\n",
      "ERROR:kafka.conn:DNS lookup failed for broker:29092 (AddressFamily.AF_UNSPEC)\n",
      "WARNING:kafka.conn:DNS lookup failed for broker:29092, exception was [Errno -2] Name or service not known. Is your advertised.listeners (called advertised.host.name before Kafka 9) correct and resolvable?\n",
      "ERROR:kafka.conn:DNS lookup failed for broker:29092 (AddressFamily.AF_UNSPEC)\n",
      "WARNING:kafka.conn:DNS lookup failed for broker:29092, exception was [Errno -2] Name or service not known. Is your advertised.listeners (called advertised.host.name before Kafka 9) correct and resolvable?\n",
      "ERROR:kafka.conn:DNS lookup failed for broker:29092 (AddressFamily.AF_UNSPEC)\n",
      "WARNING:kafka.conn:DNS lookup failed for broker:29092, exception was [Errno -2] Name or service not known. Is your advertised.listeners (called advertised.host.name before Kafka 9) correct and resolvable?\n",
      "ERROR:kafka.conn:DNS lookup failed for broker:29092 (AddressFamily.AF_UNSPEC)\n",
      "WARNING:kafka.conn:DNS lookup failed for broker:29092, exception was [Errno -2] Name or service not known. Is your advertised.listeners (called advertised.host.name before Kafka 9) correct and resolvable?\n",
      "ERROR:kafka.conn:DNS lookup failed for broker:29092 (AddressFamily.AF_UNSPEC)\n",
      "WARNING:kafka.conn:DNS lookup failed for broker:29092, exception was [Errno -2] Name or service not known. Is your advertised.listeners (called advertised.host.name before Kafka 9) correct and resolvable?\n",
      "ERROR:kafka.conn:DNS lookup failed for broker:29092 (AddressFamily.AF_UNSPEC)\n",
      "WARNING:kafka.conn:DNS lookup failed for broker:29092, exception was [Errno -2] Name or service not known. Is your advertised.listeners (called advertised.host.name before Kafka 9) correct and resolvable?\n",
      "ERROR:kafka.conn:DNS lookup failed for broker:29092 (AddressFamily.AF_UNSPEC)\n",
      "WARNING:kafka.conn:DNS lookup failed for broker:29092, exception was [Errno -2] Name or service not known. Is your advertised.listeners (called advertised.host.name before Kafka 9) correct and resolvable?\n",
      "ERROR:kafka.conn:DNS lookup failed for broker:29092 (AddressFamily.AF_UNSPEC)\n",
      "WARNING:kafka.conn:DNS lookup failed for broker:29092, exception was [Errno -2] Name or service not known. Is your advertised.listeners (called advertised.host.name before Kafka 9) correct and resolvable?\n",
      "ERROR:kafka.conn:DNS lookup failed for broker:29092 (AddressFamily.AF_UNSPEC)\n",
      "WARNING:kafka.conn:DNS lookup failed for broker:29092, exception was [Errno -2] Name or service not known. Is your advertised.listeners (called advertised.host.name before Kafka 9) correct and resolvable?\n",
      "ERROR:kafka.conn:DNS lookup failed for broker:29092 (AddressFamily.AF_UNSPEC)\n",
      "WARNING:kafka.conn:DNS lookup failed for broker:29092, exception was [Errno -2] Name or service not known. Is your advertised.listeners (called advertised.host.name before Kafka 9) correct and resolvable?\n",
      "ERROR:kafka.conn:DNS lookup failed for broker:29092 (AddressFamily.AF_UNSPEC)\n",
      "WARNING:kafka.conn:DNS lookup failed for broker:29092, exception was [Errno -2] Name or service not known. Is your advertised.listeners (called advertised.host.name before Kafka 9) correct and resolvable?\n",
      "ERROR:kafka.conn:DNS lookup failed for broker:29092 (AddressFamily.AF_UNSPEC)\n",
      "WARNING:kafka.conn:DNS lookup failed for broker:29092, exception was [Errno -2] Name or service not known. Is your advertised.listeners (called advertised.host.name before Kafka 9) correct and resolvable?\n",
      "ERROR:kafka.conn:DNS lookup failed for broker:29092 (AddressFamily.AF_UNSPEC)\n",
      "WARNING:kafka.conn:DNS lookup failed for broker:29092, exception was [Errno -2] Name or service not known. Is your advertised.listeners (called advertised.host.name before Kafka 9) correct and resolvable?\n",
      "ERROR:kafka.conn:DNS lookup failed for broker:29092 (AddressFamily.AF_UNSPEC)\n",
      "WARNING:kafka.conn:DNS lookup failed for broker:29092, exception was [Errno -2] Name or service not known. Is your advertised.listeners (called advertised.host.name before Kafka 9) correct and resolvable?\n",
      "ERROR:kafka.conn:DNS lookup failed for broker:29092 (AddressFamily.AF_UNSPEC)\n",
      "WARNING:kafka.conn:DNS lookup failed for broker:29092, exception was [Errno -2] Name or service not known. Is your advertised.listeners (called advertised.host.name before Kafka 9) correct and resolvable?\n",
      "ERROR:kafka.conn:DNS lookup failed for broker:29092 (AddressFamily.AF_UNSPEC)\n",
      "WARNING:kafka.conn:DNS lookup failed for broker:29092, exception was [Errno -2] Name or service not known. Is your advertised.listeners (called advertised.host.name before Kafka 9) correct and resolvable?\n",
      "ERROR:kafka.conn:DNS lookup failed for broker:29092 (AddressFamily.AF_UNSPEC)\n",
      "ERROR:kafka.conn:Connect attempt to <BrokerConnection node_id=1 host=broker:29092 <connecting> [IPv4 ('172.30.0.18', 29092)]> returned error 111. Disconnecting.\n",
      "WARNING:kafka.client:Node 1 connection failed -- refreshing metadata\n",
      "ERROR:kafka.conn:Connect attempt to <BrokerConnection node_id=1 host=broker:29092 <connecting> [IPv4 ('172.30.0.18', 29092)]> returned error 111. Disconnecting.\n",
      "WARNING:kafka.client:Node 1 connection failed -- refreshing metadata\n",
      "ERROR:kafka.conn:Connect attempt to <BrokerConnection node_id=1 host=broker:29092 <connecting> [IPv4 ('172.30.0.18', 29092)]> returned error 111. Disconnecting.\n"
     ]
    },
    {
     "name": "stderr",
     "output_type": "stream",
     "text": [
      "WARNING:kafka.client:Node 1 connection failed -- refreshing metadata\n",
      "ERROR:kafka.conn:Connect attempt to <BrokerConnection node_id=1 host=broker:29092 <connecting> [IPv4 ('172.30.0.18', 29092)]> returned error 111. Disconnecting.\n",
      "WARNING:kafka.client:Node 1 connection failed -- refreshing metadata\n",
      "ERROR:kafka.conn:Connect attempt to <BrokerConnection node_id=1 host=broker:29092 <connecting> [IPv4 ('172.30.0.18', 29092)]> returned error 111. Disconnecting.\n",
      "WARNING:kafka.client:Node 1 connection failed -- refreshing metadata\n",
      "ERROR:kafka.conn:Connect attempt to <BrokerConnection node_id=1 host=broker:29092 <connecting> [IPv4 ('172.30.0.18', 29092)]> returned error 111. Disconnecting.\n",
      "WARNING:kafka.client:Node 1 connection failed -- refreshing metadata\n",
      "ERROR:kafka.conn:Connect attempt to <BrokerConnection node_id=1 host=broker:29092 <connecting> [IPv4 ('172.30.0.18', 29092)]> returned error 111. Disconnecting.\n",
      "WARNING:kafka.client:Node 1 connection failed -- refreshing metadata\n",
      "ERROR:kafka.conn:Connect attempt to <BrokerConnection node_id=1 host=broker:29092 <connecting> [IPv4 ('172.30.0.18', 29092)]> returned error 111. Disconnecting.\n",
      "WARNING:kafka.client:Node 1 connection failed -- refreshing metadata\n",
      "ERROR:kafka.conn:Connect attempt to <BrokerConnection node_id=1 host=broker:29092 <connecting> [IPv4 ('172.30.0.18', 29092)]> returned error 111. Disconnecting.\n",
      "WARNING:kafka.client:Node 1 connection failed -- refreshing metadata\n",
      "ERROR:kafka.conn:Connect attempt to <BrokerConnection node_id=1 host=broker:29092 <connecting> [IPv4 ('172.30.0.18', 29092)]> returned error 111. Disconnecting.\n",
      "WARNING:kafka.client:Node 1 connection failed -- refreshing metadata\n",
      "ERROR:kafka.conn:Connect attempt to <BrokerConnection node_id=1 host=broker:29092 <connecting> [IPv4 ('172.30.0.18', 29092)]> returned error 111. Disconnecting.\n",
      "WARNING:kafka.client:Node 1 connection failed -- refreshing metadata\n",
      "ERROR:kafka.conn:Connect attempt to <BrokerConnection node_id=1 host=broker:29092 <connecting> [IPv4 ('172.30.0.18', 29092)]> returned error 111. Disconnecting.\n",
      "WARNING:kafka.client:Node 1 connection failed -- refreshing metadata\n",
      "ERROR:kafka.conn:Connect attempt to <BrokerConnection node_id=1 host=broker:29092 <connecting> [IPv4 ('172.30.0.18', 29092)]> returned error 111. Disconnecting.\n",
      "WARNING:kafka.client:Node 1 connection failed -- refreshing metadata\n",
      "ERROR:kafka.conn:Connect attempt to <BrokerConnection node_id=1 host=broker:29092 <connecting> [IPv4 ('172.30.0.18', 29092)]> returned error 111. Disconnecting.\n",
      "WARNING:kafka.client:Node 1 connection failed -- refreshing metadata\n",
      "ERROR:kafka.conn:Connect attempt to <BrokerConnection node_id=1 host=broker:29092 <connecting> [IPv4 ('172.30.0.18', 29092)]> returned error 111. Disconnecting.\n",
      "WARNING:kafka.client:Node 1 connection failed -- refreshing metadata\n",
      "ERROR:kafka.conn:Connect attempt to <BrokerConnection node_id=1 host=broker:29092 <connecting> [IPv4 ('172.30.0.18', 29092)]> returned error 111. Disconnecting.\n",
      "WARNING:kafka.client:Node 1 connection failed -- refreshing metadata\n",
      "ERROR:kafka.conn:Connect attempt to <BrokerConnection node_id=1 host=broker:29092 <connecting> [IPv4 ('172.30.0.18', 29092)]> returned error 111. Disconnecting.\n",
      "WARNING:kafka.client:Node 1 connection failed -- refreshing metadata\n",
      "WARNING:kafka.cluster:No broker metadata found in MetadataResponse -- ignoring.\n",
      "WARNING:kafka.client:Node 1 connection failed -- refreshing metadata\n",
      "ERROR:kafka.conn:Connect attempt to <BrokerConnection node_id=1 host=broker:29092 <connecting> [IPv4 ('172.30.0.18', 29092)]> returned error 111. Disconnecting.\n",
      "WARNING:kafka.client:Node 1 connection failed -- refreshing metadata\n",
      "ERROR:kafka.conn:Connect attempt to <BrokerConnection node_id=1 host=broker:29092 <connecting> [IPv4 ('172.30.0.18', 29092)]> returned error 111. Disconnecting.\n",
      "WARNING:kafka.client:Node 1 connection failed -- refreshing metadata\n",
      "ERROR:kafka.conn:Connect attempt to <BrokerConnection node_id=1 host=broker:29092 <connecting> [IPv4 ('172.30.0.18', 29092)]> returned error 111. Disconnecting.\n",
      "WARNING:kafka.client:Node 1 connection failed -- refreshing metadata\n",
      "ERROR:kafka.conn:Connect attempt to <BrokerConnection node_id=1 host=broker:29092 <connecting> [IPv4 ('172.30.0.18', 29092)]> returned error 111. Disconnecting.\n",
      "WARNING:kafka.client:Node 1 connection failed -- refreshing metadata\n",
      "ERROR:kafka.conn:Connect attempt to <BrokerConnection node_id=1 host=broker:29092 <connecting> [IPv4 ('172.30.0.18', 29092)]> returned error 111. Disconnecting.\n",
      "WARNING:kafka.client:Node 1 connection failed -- refreshing metadata\n",
      "ERROR:kafka.conn:Connect attempt to <BrokerConnection node_id=1 host=broker:29092 <connecting> [IPv4 ('172.30.0.18', 29092)]> returned error 111. Disconnecting.\n",
      "WARNING:kafka.client:Node 1 connection failed -- refreshing metadata\n",
      "ERROR:kafka.conn:Connect attempt to <BrokerConnection node_id=1 host=broker:29092 <connecting> [IPv4 ('172.30.0.18', 29092)]> returned error 113. Disconnecting.\n",
      "WARNING:kafka.client:Node 1 connection failed -- refreshing metadata\n",
      "WARNING:kafka.conn:DNS lookup failed for broker:29092, exception was [Errno -2] Name or service not known. Is your advertised.listeners (called advertised.host.name before Kafka 9) correct and resolvable?\n",
      "ERROR:kafka.conn:DNS lookup failed for broker:29092 (AddressFamily.AF_UNSPEC)\n",
      "WARNING:kafka.conn:DNS lookup failed for broker:29092, exception was [Errno -3] Temporary failure in name resolution. Is your advertised.listeners (called advertised.host.name before Kafka 9) correct and resolvable?\n",
      "ERROR:kafka.conn:DNS lookup failed for broker:29092 (AddressFamily.AF_UNSPEC)\n",
      "WARNING:kafka.conn:DNS lookup failed for broker:29092, exception was [Errno -3] Temporary failure in name resolution. Is your advertised.listeners (called advertised.host.name before Kafka 9) correct and resolvable?\n",
      "ERROR:kafka.conn:DNS lookup failed for broker:29092 (AddressFamily.AF_UNSPEC)\n",
      "WARNING:kafka.conn:DNS lookup failed for broker:29092, exception was [Errno -3] Temporary failure in name resolution. Is your advertised.listeners (called advertised.host.name before Kafka 9) correct and resolvable?\n",
      "ERROR:kafka.conn:DNS lookup failed for broker:29092 (AddressFamily.AF_UNSPEC)\n",
      "WARNING:kafka.conn:DNS lookup failed for broker:29092, exception was [Errno -3] Temporary failure in name resolution. Is your advertised.listeners (called advertised.host.name before Kafka 9) correct and resolvable?\n",
      "ERROR:kafka.conn:DNS lookup failed for broker:29092 (AddressFamily.AF_UNSPEC)\n",
      "WARNING:kafka.conn:DNS lookup failed for broker:29092, exception was [Errno -3] Temporary failure in name resolution. Is your advertised.listeners (called advertised.host.name before Kafka 9) correct and resolvable?\n",
      "ERROR:kafka.conn:DNS lookup failed for broker:29092 (AddressFamily.AF_UNSPEC)\n",
      "WARNING:kafka.conn:DNS lookup failed for broker:29092, exception was [Errno -3] Temporary failure in name resolution. Is your advertised.listeners (called advertised.host.name before Kafka 9) correct and resolvable?\n",
      "ERROR:kafka.conn:DNS lookup failed for broker:29092 (AddressFamily.AF_UNSPEC)\n",
      "WARNING:kafka.conn:DNS lookup failed for broker:29092, exception was [Errno -3] Temporary failure in name resolution. Is your advertised.listeners (called advertised.host.name before Kafka 9) correct and resolvable?\n",
      "ERROR:kafka.conn:DNS lookup failed for broker:29092 (AddressFamily.AF_UNSPEC)\n",
      "WARNING:kafka.conn:DNS lookup failed for broker:29092, exception was [Errno -3] Temporary failure in name resolution. Is your advertised.listeners (called advertised.host.name before Kafka 9) correct and resolvable?\n",
      "ERROR:kafka.conn:DNS lookup failed for broker:29092 (AddressFamily.AF_UNSPEC)\n",
      "WARNING:kafka.conn:DNS lookup failed for broker:29092, exception was [Errno -3] Temporary failure in name resolution. Is your advertised.listeners (called advertised.host.name before Kafka 9) correct and resolvable?\n",
      "ERROR:kafka.conn:DNS lookup failed for broker:29092 (AddressFamily.AF_UNSPEC)\n",
      "WARNING:kafka.conn:DNS lookup failed for broker:29092, exception was [Errno -3] Temporary failure in name resolution. Is your advertised.listeners (called advertised.host.name before Kafka 9) correct and resolvable?\n"
     ]
    },
    {
     "name": "stderr",
     "output_type": "stream",
     "text": [
      "ERROR:kafka.conn:DNS lookup failed for broker:29092 (AddressFamily.AF_UNSPEC)\n",
      "WARNING:kafka.conn:DNS lookup failed for broker:29092, exception was [Errno -3] Temporary failure in name resolution. Is your advertised.listeners (called advertised.host.name before Kafka 9) correct and resolvable?\n",
      "ERROR:kafka.conn:DNS lookup failed for broker:29092 (AddressFamily.AF_UNSPEC)\n"
     ]
    }
   ],
   "source": [
    "qr = \"\"\"CREATE TABLE agg AS\n",
    "  SELECT from_account, COUNT(*) AS num_transactions, SUM(amount_cents) AS total_value\n",
    "  FROM TRANSACTIONS GROUP BY from_account EMIT CHANGES\n",
    "  \"\"\"\n",
    "\n",
    "client.ksql(qr)\n"
   ]
  },
  {
   "cell_type": "markdown",
   "metadata": {},
   "source": [
    "Preprocessing: \n",
    "\n",
    "- Filter columns which are not needed \n",
    "- Filter messages where column 'class' is empty\n",
    "- Change data format to Avro for more convenient further processing\n"
   ]
  },
  {
   "cell_type": "code",
   "execution_count": 73,
   "metadata": {},
   "outputs": [
    {
     "data": {
      "text/plain": [
       "True"
      ]
     },
     "execution_count": 73,
     "metadata": {},
     "output_type": "execute_result"
    }
   ],
   "source": [
    "client.create_stream_as(table_name='transactions_high',\n",
    "                     select_columns=['transaction_id', 'from_account', 'to_account', 'amount_cents', 'created_at'],\n",
    "                     src_table='transactions',\n",
    "                     conditions='amount_cents > 5000',\n",
    "                     kafka_topic='transactions_high',\n",
    "                     value_format='JSON')"
   ]
  },
  {
   "cell_type": "markdown",
   "metadata": {},
   "source": [
    "Take a look at the creates KSQL Streams:"
   ]
  },
  {
   "cell_type": "code",
   "execution_count": 84,
   "metadata": {},
   "outputs": [
    {
     "data": {
      "text/plain": [
       "[{'@type': 'streams',\n",
       "  'statementText': 'show streams;',\n",
       "  'streams': [{'type': 'STREAM',\n",
       "    'name': 'TRANSACTIONS',\n",
       "    'topic': 'transactions',\n",
       "    'format': 'JSON'},\n",
       "   {'type': 'STREAM',\n",
       "    'name': 'TRANSACTIONS_HIGH',\n",
       "    'topic': 'transactions_high',\n",
       "    'format': 'JSON'}],\n",
       "  'warnings': []}]"
      ]
     },
     "execution_count": 84,
     "metadata": {},
     "output_type": "execute_result"
    }
   ],
   "source": [
    "client.ksql('show streams')"
   ]
  },
  {
   "cell_type": "markdown",
   "metadata": {},
   "source": [
    "Take a look at the metadata of the KSQL Stream:"
   ]
  },
  {
   "cell_type": "code",
   "execution_count": 78,
   "metadata": {},
   "outputs": [
    {
     "data": {
      "text/plain": [
       "[{'@type': 'sourceDescription',\n",
       "  'statementText': 'describe TRANSACTIONS_HIGH;',\n",
       "  'sourceDescription': {'name': 'TRANSACTIONS_HIGH',\n",
       "   'windowType': None,\n",
       "   'readQueries': [],\n",
       "   'writeQueries': [{'queryString': \"CREATE STREAM TRANSACTIONS_HIGH WITH (KAFKA_TOPIC='transactions_high', PARTITIONS=1, REPLICAS=1, VALUE_FORMAT='JSON') AS SELECT\\n  TRANSACTIONS.TRANSACTION_ID TRANSACTION_ID,\\n  TRANSACTIONS.FROM_ACCOUNT FROM_ACCOUNT,\\n  TRANSACTIONS.TO_ACCOUNT TO_ACCOUNT,\\n  TRANSACTIONS.AMOUNT_CENTS AMOUNT_CENTS,\\n  TRANSACTIONS.CREATED_AT CREATED_AT\\nFROM TRANSACTIONS TRANSACTIONS\\nWHERE (TRANSACTIONS.AMOUNT_CENTS > 5000)\\nEMIT CHANGES;\",\n",
       "     'sinks': ['TRANSACTIONS_HIGH'],\n",
       "     'sinkKafkaTopics': ['transactions_high'],\n",
       "     'id': 'CSAS_TRANSACTIONS_HIGH_0',\n",
       "     'state': 'RUNNING'}],\n",
       "   'fields': [{'name': 'ROWTIME',\n",
       "     'schema': {'type': 'BIGINT', 'fields': None, 'memberSchema': None}},\n",
       "    {'name': 'ROWKEY',\n",
       "     'schema': {'type': 'STRING', 'fields': None, 'memberSchema': None}},\n",
       "    {'name': 'TRANSACTION_ID',\n",
       "     'schema': {'type': 'STRING', 'fields': None, 'memberSchema': None}},\n",
       "    {'name': 'FROM_ACCOUNT',\n",
       "     'schema': {'type': 'STRING', 'fields': None, 'memberSchema': None}},\n",
       "    {'name': 'TO_ACCOUNT',\n",
       "     'schema': {'type': 'STRING', 'fields': None, 'memberSchema': None}},\n",
       "    {'name': 'AMOUNT_CENTS',\n",
       "     'schema': {'type': 'INTEGER', 'fields': None, 'memberSchema': None}},\n",
       "    {'name': 'CREATED_AT',\n",
       "     'schema': {'type': 'STRING', 'fields': None, 'memberSchema': None}}],\n",
       "   'type': 'STREAM',\n",
       "   'key': '',\n",
       "   'timestamp': '',\n",
       "   'statistics': '',\n",
       "   'errorStats': '',\n",
       "   'extended': False,\n",
       "   'keyFormat': 'KAFKA',\n",
       "   'valueFormat': 'JSON',\n",
       "   'topic': 'transactions_high',\n",
       "   'partitions': 0,\n",
       "   'replication': 0,\n",
       "   'statement': \"CREATE STREAM TRANSACTIONS_HIGH WITH (KAFKA_TOPIC='transactions_high', PARTITIONS=1, REPLICAS=1, VALUE_FORMAT='JSON') AS SELECT\\n  TRANSACTIONS.TRANSACTION_ID TRANSACTION_ID,\\n  TRANSACTIONS.FROM_ACCOUNT FROM_ACCOUNT,\\n  TRANSACTIONS.TO_ACCOUNT TO_ACCOUNT,\\n  TRANSACTIONS.AMOUNT_CENTS AMOUNT_CENTS,\\n  TRANSACTIONS.CREATED_AT CREATED_AT\\nFROM TRANSACTIONS TRANSACTIONS\\nWHERE (TRANSACTIONS.AMOUNT_CENTS > 5000)\\nEMIT CHANGES;\"},\n",
       "  'warnings': []}]"
      ]
     },
     "execution_count": 78,
     "metadata": {},
     "output_type": "execute_result"
    }
   ],
   "source": [
    "client.ksql('describe TRANSACTIONS_HIGH')"
   ]
  },
  {
   "cell_type": "markdown",
   "metadata": {},
   "source": [
    "### Materialized Views ###"
   ]
  },
  {
   "cell_type": "markdown",
   "metadata": {},
   "source": [
    "Interactive query statement:"
   ]
  },
  {
   "cell_type": "code",
   "execution_count": 102,
   "metadata": {},
   "outputs": [
    {
     "name": "stdout",
     "output_type": "stream",
     "text": [
      "[{\"header\":{\"queryId\":\"none\",\"schema\":\"`ROWTIME` BIGINT, `ROWKEY` STRING, `TRANSACTION_ID` STRING, `FROM_ACCOUNT` STRING, `TO_ACCOUNT` STRING, `AMOUNT_CENTS` INTEGER, `CREATED_AT` STRING\"}},\n",
      "\n",
      "{\"row\":{\"columns\":[1610376316982,null,\"RF12111\",\"GB19WIDP65703216200907\",\"GB11LAZE85279485933401\",5031,\"1986/02/19, 00:45:59\"]}},\n",
      "\n",
      "{\"row\":{\"columns\":[1610376326986,null,\"RF12111\",\"GB47XZHB92892283585583\",\"GB41QPTG52862498119832\",8433,\"2006/12/24, 16:05:39\"]}},\n",
      "\n",
      "{\"row\":{\"columns\":[1610376336997,null,\"RF12111\",\"GB30JRER41127809430987\",\"GB18TNYE17051244393445\",6100,\"2007/02/02, 22:56:19\"]}},\n",
      "\n",
      "{\"row\":{\"columns\":[1610376347008,null,\"RF12111\",\"GB48PKCJ39793349772315\",\"GB98BXXY73773933415514\",7764,\"2013/09/30, 15:29:49\"]}},\n",
      "\n",
      "{\"row\":{\"columns\":[1610376357012,null,\"RF12111\",\"GB79PHYH77899100653063\",\"GB10KECM94970463685554\",7333,\"2005/05/15, 06:55:56\"]}},\n",
      "\n",
      "{\"row\":{\"columns\":[1610376367024,null,\"RF12111\",\"GB78OVUH23855003709217\",\"GB93POJI64176648706472\",5495,\"2016/01/15, 18:30:46\"]}},\n",
      "\n",
      "{\"row\":{\"columns\":[1610376377028,null,\"RF12111\",\"GB17CUWS00105166828949\",\"GB82CBRI25994083372238\",8491,\"2013/07/16, 11:08:22\"]}},\n",
      "\n",
      "{\"row\":{\"columns\":[1610376387036,null,\"RF12111\",\"GB69SGMF92864433976473\",\"GB11ZSNP16359075746507\",5942,\"2007/12/31, 00:14:31\"]}},\n",
      "\n",
      "{\"row\":{\"columns\":[1610376397046,null,\"RF12111\",\"GB36VKDP96459396565744\",\"GB84CPYT06000135449065\",5374,\"1989/03/18, 21:18:15\"]}},\n",
      "\n",
      "{\"row\":{\"columns\":[1610376407056,null,\"RF12111\",\"GB04SIYS46927428976034\",\"GB97LCOD46977253491838\",9612,\"1981/09/07, 18:10:48\"]}},\n",
      "\n",
      "{\"row\":{\"columns\":[1610376417063,null,\"RF12111\",\"GB57FMCU73706076404779\",\"GB20FHTK23013204523032\",6326,\"1980/04/03, 00:16:28\"]}},\n",
      "\n",
      "{\"row\":{\"columns\":[1610376437079,null,\"RF12111\",\"GB48BCYJ39354413566081\",\"GB30OMQA69925637703671\",8381,\"2017/11/03, 18:49:37\"]}},\n",
      "\n",
      "{\"row\":{\"columns\":[1610376457094,null,\"RF12111\",\"GB58FINR79813294150427\",\"GB84EYLR15454470026593\",9072,\"2006/06/18, 00:35:12\"]}},\n",
      "\n",
      "{\"row\":{\"columns\":[1610376497126,null,\"RF12111\",\"GB49WZFE63747779904299\",\"GB28FDEG92157378270297\",7767,\"2007/02/14, 02:46:00\"]}},\n",
      "\n",
      "{\"row\":{\"columns\":[1610376507136,null,\"RF12111\",\"GB26ZSDN85711090230038\",\"GB65VMGB88674232270760\",8586,\"1971/05/22, 01:24:12\"]}},\n",
      "\n",
      "{\"row\":{\"columns\":[1610376517146,null,\"RF12111\",\"GB43MZJK25382984554252\",\"GB14PFAF14294113624666\",5796,\"1980/09/11, 23:24:59\"]}},\n",
      "\n",
      "{\"row\":{\"columns\":[1610376527156,null,\"RF12111\",\"GB66DAVS88185737746189\",\"GB59KHOR42700558157753\",9454,\"1973/09/25, 09:58:10\"]}},\n",
      "\n",
      "{\"row\":{\"columns\":[1610376567197,null,\"RF12111\",\"GB89DYSK18267389583637\",\"GB67BUAQ85710769487015\",5647,\"1986/04/10, 08:07:03\"]}},\n",
      "\n",
      "{\"row\":{\"columns\":[1610376607232,null,\"RF12111\",\"GB71DBQM50443060993949\",\"GB44IHHO44916902734603\",9510,\"1987/11/18, 06:20:48\"]}},\n",
      "\n",
      "{\"row\":{\"columns\":[1610376637257,null,\"RF12111\",\"GB97KWCC20356031742242\",\"GB67YAOZ22339653749689\",5036,\"2015/08/29, 12:36:40\"]}},\n",
      "\n",
      "{\"row\":{\"columns\":[1610376657278,null,\"RF12111\",\"GB53DPOJ66690911235381\",\"GB79PMVF80550360341289\",6843,\"2018/06/27, 03:05:55\"]}},\n",
      "\n",
      "{\"row\":{\"columns\":[1610376667286,null,\"RF12111\",\"GB60VHMD07453810080244\",\"GB88INDE61020459879614\",5828,\"2015/04/23, 21:10:55\"]}},\n",
      "\n",
      "{\"row\":{\"columns\":[1610376677296,null,\"RF12111\",\"GB68BQUV37192846881111\",\"GB94SXZV99062360810849\",5075,\"2013/04/08, 10:15:32\"]}},\n",
      "\n",
      "{\"row\":{\"columns\":[1610376697316,null,\"RF12111\",\"GB69WDKL83404296608334\",\"GB64ZMSK03111331818925\",7673,\"2016/12/23, 20:59:34\"]}},\n",
      "\n",
      "{\"row\":{\"columns\":[1610376747366,null,\"RF12111\",\"GB37ULRZ59337195125851\",\"GB43SYCX06494477808531\",5156,\"2013/07/18, 07:49:17\"]}},\n",
      "\n",
      "{\"row\":{\"columns\":[1610376757376,null,\"RF12111\",\"GB55PGVU19064972360321\",\"GB87NCZU18092933161688\",8160,\"2006/08/25, 16:57:55\"]}},\n",
      "\n",
      "{\"row\":{\"columns\":[1610376807426,null,\"RF12111\",\"GB55HECO31697356011381\",\"GB72ZHLU68430669138151\",6805,\"1972/08/06, 14:43:43\"]}},\n",
      "\n",
      "{\"row\":{\"columns\":[1610376817431,null,\"RF12111\",\"GB95MIXG98043057073754\",\"GB22EGGP08571104349097\",5908,\"1982/09/28, 13:56:02\"]}},\n",
      "\n",
      "{\"row\":{\"columns\":[1610376827440,null,\"RF12111\",\"GB41VPRC93771404995124\",\"GB79GLOX29572778524188\",5360,\"1992/01/18, 07:27:35\"]}},\n",
      "\n",
      "{\"row\":{\"columns\":[1610376847456,null,\"RF12111\",\"GB73SLTL64601948342305\",\"GB07PWLS38509191314472\",6529,\"2013/12/10, 06:08:22\"]}},\n",
      "\n",
      "{\"row\":{\"columns\":[1610376857461,null,\"RF12111\",\"GB09MYCH79679419329568\",\"GB65SFVN04372487374910\",9196,\"2000/11/03, 05:22:26\"]}},\n",
      "\n",
      "{\"row\":{\"columns\":[1610376867469,null,\"RF12111\",\"GB79JEMJ77260579392957\",\"GB96BEMG62163491005707\",9849,\"1998/02/03, 09:56:42\"]}},\n",
      "\n",
      "{\"row\":{\"columns\":[1610376887486,null,\"RF12111\",\"GB79LHZX32483084196202\",\"GB47PPIP51376369146461\",7388,\"2011/05/28, 14:12:04\"]}},\n",
      "\n",
      "{\"row\":{\"columns\":[1610376897496,null,\"RF12111\",\"GB58RDMI84151651631470\",\"GB52ATZE49207568504072\",6516,\"2015/07/19, 00:35:50\"]}},\n",
      "\n",
      "{\"row\":{\"columns\":[1610376907506,null,\"RF12111\",\"GB25COPM87912586299247\",\"GB24MQJJ23547279353730\",9849,\"1998/02/19, 14:46:15\"]}},\n",
      "\n",
      "{\"row\":{\"columns\":[1610376937528,null,\"RF12111\",\"GB75AITP34904000545217\",\"GB55YQGW81633926753069\",7488,\"2003/06/09, 01:50:39\"]}},\n",
      "\n",
      "{\"row\":{\"columns\":[1610376977561,null,\"RF12111\",\"GB26UEXT87093018649774\",\"GB04QEQA82453932827277\",8594,\"1981/03/18, 02:01:05\"]}},\n",
      "\n",
      "{\"row\":{\"columns\":[1610376987568,null,\"RF12111\",\"GB20XEGH90283942496023\",\"GB82UJQA82533220251395\",5633,\"1974/01/15, 23:21:16\"]}},\n",
      "\n",
      "{\"row\":{\"columns\":[1610377017586,null,\"RF12111\",\"GB77TBIQ21377244968985\",\"GB77LZIQ84590009314262\",5965,\"1970/08/22, 17:19:08\"]}},\n",
      "\n",
      "{\"row\":{\"columns\":[1610377027596,null,\"RF12111\",\"GB64YZLO73940329397170\",\"GB96BAUT10033900692562\",6868,\"1974/08/30, 16:23:04\"]}},\n",
      "\n",
      "{\"row\":{\"columns\":[1610377067627,null,\"RF12111\",\"GB20PAPA64027550265843\",\"GB82GHOS30671794326422\",8146,\"2004/04/24, 11:47:30\"]}},\n",
      "\n",
      "{\"row\":{\"columns\":[1610377077632,null,\"RF12111\",\"GB90TPTS08652064945514\",\"GB32NKYY25403886265166\",5862,\"1993/10/04, 19:41:51\"]}},\n",
      "\n",
      "{\"row\":{\"columns\":[1610377087639,null,\"RF12111\",\"GB50YWZA74669534183427\",\"GB71PUCG17265601473697\",7161,\"2000/10/12, 03:40:02\"]}},\n",
      "\n",
      "{\"row\":{\"columns\":[1610377107654,null,\"RF12111\",\"GB03SPWZ92242045706880\",\"GB38VNNW03231300467312\",9275,\"2005/01/16, 18:11:00\"]}},\n",
      "\n",
      "{\"row\":{\"columns\":[1610377157696,null,\"RF12111\",\"GB66RZEE32741387316328\",\"GB56JZRF40256386409465\",8888,\"1983/03/18, 00:16:18\"]}},\n",
      "\n",
      "{\"row\":{\"columns\":[1610377177716,null,\"RF12111\",\"GB02ENCW34054325155516\",\"GB26WFXZ03606019107011\",6677,\"1976/03/12, 18:31:25\"]}},\n",
      "\n",
      "{\"row\":{\"columns\":[1610377197736,null,\"RF12111\",\"GB13DWON40724213135237\",\"GB05CBMT47146974953691\",7846,\"2009/09/15, 13:28:17\"]}},\n",
      "\n",
      "{\"row\":{\"columns\":[1610377207746,null,\"RF12111\",\"GB77YTNI02543971524933\",\"GB21FYAE78562695492883\",7299,\"1990/05/10, 15:52:19\"]}},\n",
      "\n",
      "{\"row\":{\"columns\":[1610377217756,null,\"RF12111\",\"GB68KYFT75552182502774\",\"GB95SJEE87939364487455\",6387,\"2014/01/05, 07:33:03\"]}},\n",
      "\n",
      "{\"row\":{\"columns\":[1610377237776,null,\"RF12111\",\"GB05TLBE74770417855494\",\"GB20XPYM12527084025105\",5953,\"1973/01/26, 11:01:13\"]}},\n",
      "\n",
      "{\"row\":{\"columns\":[1610377247787,null,\"RF12111\",\"GB27LOZY87968353817046\",\"GB98VDMZ78001628621222\",8424,\"1987/06/05, 08:14:56\"]}},\n",
      "\n",
      "{\"row\":{\"columns\":[1610377257798,null,\"RF12111\",\"GB45DICX34494737149396\",\"GB14ABAM14611255529169\",8873,\"1971/03/06, 14:50:34\"]}},\n",
      "\n",
      "{\"row\":{\"columns\":[1610377287819,null,\"RF12111\",\"GB03RKOE18433809272462\",\"GB75KWWG89915217754836\",9247,\"1979/04/08, 05:30:16\"]}},\n",
      "\n",
      "{\"row\":{\"columns\":[1610377297826,null,\"RF12111\",\"GB34AKNK03147560026052\",\"GB55FMBM14080269674390\",5254,\"2002/09/23, 16:59:17\"]}},\n",
      "\n",
      "{\"row\":{\"columns\":[1610377347874,null,\"RF12111\",\"GB65SUIS11116063571622\",\"GB66HTRD81429958009365\",8407,\"1971/05/17, 11:15:39\"]}},\n",
      "\n",
      "{\"row\":{\"columns\":[1610377367888,null,\"RF12111\",\"GB36EORC79411566425923\",\"GB05WCWI54381002136197\",9710,\"1977/06/17, 23:44:00\"]}},\n",
      "\n",
      "{\"row\":{\"columns\":[1610377377896,null,\"RF12111\",\"GB13SUZR18204182505153\",\"GB44HEOR45540637387385\",8072,\"2007/09/09, 14:17:18\"]}},\n",
      "\n",
      "{\"row\":{\"columns\":[1610377397916,null,\"RF12111\",\"GB11KFWE78550034136957\",\"GB71BWPX28855647417614\",8397,\"2018/07/22, 08:45:56\"]}},\n",
      "\n",
      "{\"row\":{\"columns\":[1610377447948,null,\"RF12111\",\"GB32KWWG65155900824155\",\"GB21ACIA19995361417478\",6865,\"2003/05/21, 07:38:01\"]}},\n",
      "\n",
      "{\"row\":{\"columns\":[1610377477970,null,\"RF12111\",\"GB92QONZ70199485432331\",\"GB19XHOF11890170284685\",8212,\"2000/03/05, 10:22:12\"]}},\n",
      "\n",
      "{\"row\":{\"columns\":[1610377497986,null,\"RF12111\",\"GB79EKKI34048399512719\",\"GB47AYWR70378958130606\",9176,\"1996/10/22, 08:58:37\"]}},\n",
      "\n",
      "{\"row\":{\"columns\":[1610377507997,null,\"RF12111\",\"GB21MYSI74488268987476\",\"GB66RXLF95854101191037\",8267,\"1984/09/21, 14:11:45\"]}},\n",
      "\n"
     ]
    },
    {
     "name": "stdout",
     "output_type": "stream",
     "text": [
      "{\"row\":{\"columns\":[1610377538021,null,\"RF12111\",\"GB09QJUJ94787126826317\",\"GB21BJKK45149134083546\",7648,\"1997/10/21, 02:28:41\"]}},\n",
      "\n",
      "{\"row\":{\"columns\":[1610377558036,null,\"RF12111\",\"GB40JTHU71975956861583\",\"GB88JZMD46010910751451\",8206,\"2004/03/29, 22:59:21\"]}},\n",
      "\n",
      "{\"row\":{\"columns\":[1610377568037,null,\"RF12111\",\"GB06HUNN19634978231383\",\"GB67MPIJ08497165309941\",7571,\"1981/07/29, 17:05:07\"]}},\n",
      "\n",
      "{\"row\":{\"columns\":[1610377608057,null,\"RF12111\",\"GB27VEDE59001124894429\",\"GB93XXZS89209722790957\",7672,\"2011/06/16, 23:43:07\"]}},\n",
      "\n",
      "{\"row\":{\"columns\":[1610377668106,null,\"RF12111\",\"GB82DHUT87570485783768\",\"GB63GCBO01175938394548\",7490,\"1974/02/07, 13:13:57\"]}},\n",
      "\n",
      "{\"row\":{\"columns\":[1610377688126,null,\"RF12111\",\"GB25CCVU69861226344950\",\"GB85VIJS06598905084067\",5706,\"1973/02/08, 12:10:22\"]}},\n",
      "\n",
      "{\"row\":{\"columns\":[1610377718146,null,\"RF12111\",\"GB15WZEZ85581771379679\",\"GB81GXXX08605215363443\",9384,\"1975/09/28, 18:02:44\"]}},\n",
      "\n",
      "{\"row\":{\"columns\":[1610377768196,null,\"RF12111\",\"GB88VEFP11641052028786\",\"GB08LHIT07659601660203\",8146,\"2008/01/13, 13:38:34\"]}},\n",
      "\n",
      "{\"row\":{\"columns\":[1610377828251,null,\"RF12111\",\"GB51GTJQ20917492505195\",\"GB70CHLJ87790864509121\",6607,\"2008/07/01, 16:06:24\"]}},\n",
      "\n",
      "{\"row\":{\"columns\":[1610377838256,null,\"RF12111\",\"GB44FEVJ22795031727521\",\"GB82ZOIJ34263851776804\",7801,\"2007/04/17, 04:06:07\"]}},\n",
      "\n",
      "{\"row\":{\"columns\":[1610377848266,null,\"RF12111\",\"GB86CGLS83931729690632\",\"GB11HOSZ61007161176322\",6594,\"1994/07/18, 22:04:22\"]}},\n",
      "\n",
      "{\"row\":{\"columns\":[1610377868284,null,\"RF12111\",\"GB94KXET74448631890359\",\"GB65PLDI68038349015087\",8863,\"1998/08/22, 05:54:26\"]}},\n",
      "\n",
      "{\"row\":{\"columns\":[1610377888301,null,\"RF12111\",\"GB92ZLRZ57126236836726\",\"GB28GGGV49082521769524\",7114,\"2012/04/29, 22:17:07\"]}},\n",
      "\n",
      "{\"row\":{\"columns\":[1610377898311,null,\"RF12111\",\"GB26IHYE30675679547849\",\"GB96CGBB67048343744760\",8126,\"1980/01/08, 08:26:29\"]}},\n",
      "\n",
      "{\"row\":{\"columns\":[1610377918326,null,\"RF12111\",\"GB95VSYW10443498038259\",\"GB45JWYW85946447751002\",8934,\"2015/11/14, 11:01:25\"]}},\n",
      "\n",
      "{\"row\":{\"columns\":[1610377928336,null,\"RF12111\",\"GB72ZOYJ38595913440596\",\"GB12XZNC22067523271746\",6830,\"1983/08/07, 19:31:17\"]}},\n",
      "\n",
      "{\"row\":{\"columns\":[1610377938344,null,\"RF12111\",\"GB25BATD06178110108301\",\"GB23ECLA57643820493209\",6111,\"1971/04/01, 05:15:38\"]}},\n",
      "\n",
      "{\"row\":{\"columns\":[1610378008416,null,\"RF12111\",\"GB56SKXZ81669500729526\",\"GB56IBRU02494491618938\",6125,\"1999/05/18, 17:56:03\"]}},\n",
      "\n",
      "{\"row\":{\"columns\":[1610378028426,null,\"RF12111\",\"GB69OHER79590360829199\",\"GB21MKSW75625772775858\",8792,\"2014/04/26, 05:36:45\"]}},\n",
      "\n",
      "{\"row\":{\"columns\":[1610378048446,null,\"RF12111\",\"GB50RPPS29638672853396\",\"GB76ZSDQ12954482287891\",5548,\"2014/10/24, 11:17:12\"]}},\n",
      "\n",
      "{\"row\":{\"columns\":[1610378068466,null,\"RF12111\",\"GB75UZSK48298968842568\",\"GB55DTBO60212949961581\",5544,\"2016/09/08, 06:35:43\"]}},\n",
      "\n",
      "{\"row\":{\"columns\":[1610378088486,null,\"RF12111\",\"GB79SPJK88083448402593\",\"GB14MBWR60032436652459\",7635,\"2007/11/23, 15:43:38\"]}},\n",
      "\n",
      "{\"row\":{\"columns\":[1610378098496,null,\"RF12111\",\"GB16GOXE20337782848116\",\"GB29HZEO60298034167630\",5167,\"2005/07/27, 07:56:52\"]}},\n",
      "\n",
      "{\"row\":{\"columns\":[1610378118516,null,\"RF12111\",\"GB13UKNF79282094014877\",\"GB93DADH00591384020514\",5581,\"2001/11/16, 13:19:35\"]}},\n",
      "\n",
      "{\"row\":{\"columns\":[1610378178566,null,\"RF12111\",\"GB38RPFL32511050580976\",\"GB63MLMT91408041094632\",6622,\"2005/07/15, 20:54:52\"]}},\n",
      "\n",
      "{\"row\":{\"columns\":[1610378198586,null,\"RF12111\",\"GB56ILIT15492177429063\",\"GB26INAB01162762179553\",9095,\"1994/11/06, 23:27:45\"]}},\n",
      "\n",
      "{\"row\":{\"columns\":[1610378208596,null,\"RF12111\",\"GB95IGQO58071243288607\",\"GB28UDSV56448043051307\",6066,\"1986/12/17, 15:34:30\"]}},\n",
      "\n",
      "{\"row\":{\"columns\":[1610378218606,null,\"RF12111\",\"GB27CPKA86093122954793\",\"GB72WQEK90471718446086\",9336,\"1992/05/03, 01:22:51\"]}},\n",
      "\n",
      "{\"row\":{\"columns\":[1610378238626,null,\"RF12111\",\"GB03FZJH46098377805677\",\"GB91FHBA48485888367548\",8108,\"1987/02/05, 16:47:50\"]}},\n",
      "\n",
      "{\"row\":{\"columns\":[1610378248636,null,\"RF12111\",\"GB35OQTX37469857044945\",\"GB85EKEM08532165685226\",5285,\"1988/03/03, 06:42:26\"]}},\n",
      "\n",
      "{\"row\":{\"columns\":[1610378258646,null,\"RF12111\",\"GB77IKGI01527584131076\",\"GB64KJLU28803883357298\",8685,\"1971/10/14, 22:44:48\"]}},\n",
      "\n",
      "{\"row\":{\"columns\":[1610378268653,null,\"RF12111\",\"GB32FGOM92187267338024\",\"GB06ZILM54077180615174\",8873,\"2009/11/01, 10:19:21\"]}},\n",
      "\n",
      "{\"row\":{\"columns\":[1610378278663,null,\"RF12111\",\"GB04VQGP36532939187319\",\"GB44FPHQ72694934856173\",9809,\"1986/01/06, 22:54:50\"]}},\n",
      "\n",
      "{\"row\":{\"columns\":[1610378298679,null,\"RF12111\",\"GB34KJUJ36624175682395\",\"GB04MWMP97222563448570\",9672,\"1994/09/16, 19:21:48\"]}},\n",
      "\n",
      "{\"row\":{\"columns\":[1610378308686,null,\"RF12111\",\"GB77FAQV04548439090374\",\"GB12MDUW00822001372244\",8315,\"1972/06/14, 04:03:15\"]}},\n",
      "\n",
      "{\"row\":{\"columns\":[1610378318696,null,\"RF12111\",\"GB74QLNA16285664658983\",\"GB37RZEP14784085404369\",5989,\"2010/09/05, 13:18:44\"]}},\n",
      "\n",
      "{\"row\":{\"columns\":[1610378338716,null,\"RF12111\",\"GB38ZKGI65473950806924\",\"GB19POUD86027868662539\",9389,\"1978/06/21, 22:07:46\"]}},\n",
      "\n",
      "{\"row\":{\"columns\":[1610378398779,null,\"RF12111\",\"GB16MVAP87247324748424\",\"GB32RYFL41023723710368\",8612,\"1987/11/11, 10:26:28\"]}},\n",
      "\n",
      "{\"row\":{\"columns\":[1610378428806,null,\"RF12111\",\"GB73KKQJ04530118793626\",\"GB16PMJR99348830066584\",7315,\"1972/11/13, 22:57:51\"]}},\n",
      "\n",
      "{\"row\":{\"columns\":[1610378438817,null,\"RF12111\",\"GB38EYPR90498624074805\",\"GB22JXRE73392745158243\",5799,\"2007/09/25, 03:16:59\"]}},\n",
      "\n",
      "{\"row\":{\"columns\":[1610378448826,null,\"RF12111\",\"GB62AXNY25784568874548\",\"GB81CYRG67291961284312\",6551,\"1980/06/15, 01:18:45\"]}},\n",
      "\n",
      "{\"row\":{\"columns\":[1610378468846,null,\"RF12111\",\"GB51KCDD27546136212163\",\"GB87GETX51392731367686\",5579,\"2013/04/25, 21:25:37\"]}},\n",
      "\n",
      "{\"row\":{\"columns\":[1610378488866,null,\"RF12111\",\"GB26ELKX81599310733795\",\"GB28UAJI83073064556220\",8200,\"2018/04/28, 13:02:13\"]}},\n",
      "\n",
      "{\"row\":{\"columns\":[1610378498876,null,\"RF12111\",\"GB12QMGJ35233672009117\",\"GB63HXIK84052281016044\",5278,\"1987/06/27, 19:59:01\"]}},\n",
      "\n",
      "{\"row\":{\"columns\":[1610378548916,null,\"RF12111\",\"GB29GXIE59027638793656\",\"GB85MFCN44886507124126\",5229,\"2002/09/30, 03:54:12\"]}},\n",
      "\n",
      "{\"row\":{\"columns\":[1610378608970,null,\"RF12111\",\"GB84QLOS07344791939243\",\"GB69CVKU59306098707706\",5505,\"1988/07/25, 23:37:01\"]}},\n",
      "\n",
      "{\"row\":{\"columns\":[1610378628986,null,\"RF12111\",\"GB25JNOJ79727295834192\",\"GB96JTCJ77766147112662\",6440,\"2019/04/24, 06:26:03\"]}},\n",
      "\n",
      "{\"row\":{\"columns\":[1610378638996,null,\"RF12111\",\"GB41HVLM67379873885966\",\"GB59DPEA46100287860158\",8384,\"2007/02/15, 05:00:25\"]}},\n",
      "\n",
      "{\"row\":{\"columns\":[1610378669026,null,\"RF12111\",\"GB48OOHR06257379472881\",\"GB14KWLU30222016886365\",5318,\"2014/08/13, 04:48:46\"]}},\n",
      "\n",
      "{\"row\":{\"columns\":[1610378689046,null,\"RF12111\",\"GB75JSNG09397114660130\",\"GB97AJPN16029015104105\",8742,\"2004/08/02, 00:12:55\"]}},\n",
      "\n",
      "{\"row\":{\"columns\":[1610378699054,null,\"RF12111\",\"GB15DYIJ51783743243192\",\"GB94TJVY55106510686642\",7178,\"1975/06/04, 01:22:56\"]}},\n",
      "\n",
      "{\"row\":{\"columns\":[1610378719076,null,\"RF12111\",\"GB69TDCT35791234979102\",\"GB21ZXJG00862701396407\",8438,\"1971/08/20, 22:23:05\"]}},\n",
      "\n",
      "{\"row\":{\"columns\":[1610378729078,null,\"RF12111\",\"GB32EWLK11018440588276\",\"GB08BRFT69378295337870\",6775,\"2020/06/12, 12:45:18\"]}},\n",
      "\n",
      "{\"row\":{\"columns\":[1610378739086,null,\"RF12111\",\"GB25RNGC26047101223149\",\"GB85KQLL13968620527504\",6323,\"1972/06/28, 04:56:12\"]}},\n",
      "\n",
      "{\"row\":{\"columns\":[1610378749093,null,\"RF12111\",\"GB43NUKI51711305891382\",\"GB32VNGA95539940584108\",9644,\"2011/09/09, 13:46:57\"]}},\n",
      "\n",
      "{\"row\":{\"columns\":[1610378759096,null,\"RF12111\",\"GB28UKHP24453177666222\",\"GB14BGJT65540967680731\",9391,\"2017/08/06, 08:05:59\"]}},\n",
      "\n",
      "{\"row\":{\"columns\":[1610378819147,null,\"RF12111\",\"GB36XGMM99944180744673\",\"GB90QZHC56988942404505\",8748,\"1990/10/01, 10:43:35\"]}},\n",
      "\n",
      "{\"row\":{\"columns\":[1610378869197,null,\"RF12111\",\"GB57CKIF52708175900160\",\"GB60POLO96014798591246\",6615,\"2018/06/13, 05:10:24\"]}},\n",
      "\n",
      "{\"row\":{\"columns\":[1610378899227,null,\"RF12111\",\"GB53TLIB16403539955873\",\"GB27IXBO30761783147072\",5384,\"1992/12/29, 02:57:01\"]}},\n",
      "\n",
      "{\"row\":{\"columns\":[1610378919246,null,\"RF12111\",\"GB91RNYY22593562813742\",\"GB71WXRV89882483932280\",5956,\"2015/11/16, 21:26:44\"]}},\n",
      "\n",
      "{\"row\":{\"columns\":[1610378939266,null,\"RF12111\",\"GB51EPCV73137235170694\",\"GB07JSFE58438052715658\",5401,\"1996/05/17, 13:52:43\"]}},\n",
      "\n",
      "{\"row\":{\"columns\":[1610378989306,null,\"RF12111\",\"GB66OROO89636570529653\",\"GB85NGAO88279709250218\",9945,\"1990/05/30, 06:47:28\"]}},\n",
      "\n",
      "{\"row\":{\"columns\":[1610379029337,null,\"RF12111\",\"GB66VGCT78362898650726\",\"GB08YUGB90015786380732\",9935,\"1982/10/09, 11:15:25\"]}},\n",
      "\n"
     ]
    },
    {
     "name": "stdout",
     "output_type": "stream",
     "text": [
      "{\"row\":{\"columns\":[1610379039347,null,\"RF12111\",\"GB71WAVQ54183133003287\",\"GB16TJSO71074497524792\",6653,\"1991/02/18, 12:57:14\"]}},\n",
      "\n",
      "{\"row\":{\"columns\":[1610379089386,null,\"RF12111\",\"GB79LTKQ91960874506883\",\"GB20IMEF10698056600464\",5357,\"2004/03/23, 06:58:26\"]}},\n",
      "\n",
      "{\"row\":{\"columns\":[1610379099397,null,\"RF12111\",\"GB95SOGY15726890561424\",\"GB24FNUQ19596563223362\",5411,\"2013/11/14, 11:59:41\"]}},\n",
      "\n",
      "{\"row\":{\"columns\":[1610379109401,null,\"RF12111\",\"GB95XDKV11480282793539\",\"GB23ECUK64271577368778\",8027,\"1983/11/28, 10:57:00\"]}},\n",
      "\n",
      "{\"row\":{\"columns\":[1610379159447,null,\"RF12111\",\"GB07NRJY42181502883516\",\"GB52EEJG77660102686178\",8705,\"1979/11/02, 12:48:12\"]}},\n",
      "\n",
      "{\"row\":{\"columns\":[1610379169456,null,\"RF12111\",\"GB65AIRW96300350510456\",\"GB45MZQE25428672630606\",5376,\"1983/03/27, 15:43:46\"]}},\n",
      "\n",
      "{\"row\":{\"columns\":[1610379199476,null,\"RF12111\",\"GB21GZNY76795158353487\",\"GB17SKLN62496498785054\",7153,\"2001/02/17, 17:37:52\"]}},\n",
      "\n",
      "{\"row\":{\"columns\":[1610379209486,null,\"RF12111\",\"GB17TBKQ74645344152028\",\"GB04UJFH36285691151797\",6784,\"2005/05/20, 13:58:04\"]}},\n",
      "\n",
      "{\"row\":{\"columns\":[1610379219494,null,\"RF12111\",\"GB52DYEE79728449947713\",\"GB56XIGF94871056478679\",7266,\"2017/04/12, 05:28:56\"]}},\n",
      "\n",
      "{\"row\":{\"columns\":[1610379249515,null,\"RF12111\",\"GB76JVVC66944847907188\",\"GB49EZIV04924060396683\",9564,\"2007/12/01, 07:01:00\"]}},\n",
      "\n",
      "{\"row\":{\"columns\":[1610379269526,null,\"RF12111\",\"GB44EJBK16553095484391\",\"GB96NUMY82295865237127\",6191,\"2019/01/10, 12:43:03\"]}},\n",
      "\n",
      "{\"row\":{\"columns\":[1610379279537,null,\"RF12111\",\"GB56MZAJ16516348579723\",\"GB03CCUW05968587147325\",9419,\"2000/04/10, 16:18:25\"]}},\n",
      "\n",
      "{\"row\":{\"columns\":[1610379289547,null,\"RF12111\",\"GB73CKRK82696462128564\",\"GB27QVUU27775189122373\",6275,\"1984/12/25, 10:09:48\"]}},\n",
      "\n",
      "{\"row\":{\"columns\":[1610379299556,null,\"RF12111\",\"GB91SRZM97170099857002\",\"GB64CJCO89667193918379\",9732,\"1977/12/08, 21:28:19\"]}},\n",
      "\n",
      "{\"row\":{\"columns\":[1610379309566,null,\"RF12111\",\"GB33ERXJ63956483621326\",\"GB33JBMZ29369103415517\",6338,\"1971/02/12, 11:50:53\"]}},\n",
      "\n",
      "{\"row\":{\"columns\":[1610379319576,null,\"RF12111\",\"GB37AFUJ02787861022803\",\"GB60ZMRF34466944044193\",8673,\"1975/08/08, 06:26:22\"]}},\n",
      "\n",
      "{\"row\":{\"columns\":[1610379339596,null,\"RF12111\",\"GB26DEWP49697969559640\",\"GB98MAEB76631757685538\",9817,\"1982/04/29, 23:36:05\"]}},\n",
      "\n",
      "{\"row\":{\"columns\":[1610379349607,null,\"RF12111\",\"GB17WEZM34661098984780\",\"GB67HDFS43230523869599\",5337,\"1995/05/28, 15:36:04\"]}},\n",
      "\n",
      "{\"row\":{\"columns\":[1610379369626,null,\"RF12111\",\"GB82TMPR28559135069009\",\"GB75WIAV48704218775060\",5772,\"1988/03/14, 12:35:21\"]}},\n",
      "\n",
      "{\"row\":{\"columns\":[1610379379629,null,\"RF12111\",\"GB81FGCI50253353129022\",\"GB83OKAG04401294472093\",6912,\"1974/04/09, 03:31:04\"]}},\n",
      "\n",
      "{\"row\":{\"columns\":[1610379389640,null,\"RF12111\",\"GB10WBWN87514677646295\",\"GB51AYTK48815034052556\",7780,\"1994/09/19, 15:50:20\"]}},\n",
      "\n",
      "{\"row\":{\"columns\":[1610379459700,null,\"RF12111\",\"GB36KHEI44767622257202\",\"GB71SJFS99809317451723\",9929,\"1972/11/14, 06:49:19\"]}},\n",
      "\n",
      "{\"row\":{\"columns\":[1610379489731,null,\"RF12111\",\"GB50OZWM05333690420112\",\"GB88MKKZ30226210842354\",5397,\"1979/02/06, 15:51:45\"]}},\n",
      "\n",
      "{\"row\":{\"columns\":[1610379499742,null,\"RF12111\",\"GB32ZVFN45135189395114\",\"GB24TAXC47863512277129\",8776,\"2013/08/15, 05:14:41\"]}},\n",
      "\n",
      "{\"row\":{\"columns\":[1610379509746,null,\"RF12111\",\"GB33EONR10041238532766\",\"GB32RNYH36458403041195\",6004,\"1994/09/27, 16:24:44\"]}},\n",
      "\n",
      "{\"row\":{\"columns\":[1610379529766,null,\"RF12111\",\"GB76DQHZ43715251135602\",\"GB70ETMO67555665881231\",5092,\"1978/06/01, 07:58:55\"]}},\n",
      "\n",
      "{\"row\":{\"columns\":[1610379539771,null,\"RF12111\",\"GB79OTKC13306472253687\",\"GB58ANBX64421578369710\",6905,\"1987/09/16, 20:29:36\"]}},\n",
      "\n",
      "{\"row\":{\"columns\":[1610379549777,null,\"RF12111\",\"GB96CIGV32021796595230\",\"GB79OISW47444923970092\",5745,\"1994/09/13, 09:30:00\"]}},\n",
      "\n",
      "{\"row\":{\"columns\":[1610379579803,null,\"RF12111\",\"GB34VGNU02586213230783\",\"GB65WAWN21300653250479\",9862,\"1992/06/18, 07:45:14\"]}},\n",
      "\n",
      "{\"row\":{\"columns\":[1610379599819,null,\"RF12111\",\"GB14UFMS94084311056316\",\"GB50KLJV38495441639891\",8258,\"1990/05/23, 00:10:09\"]}},\n",
      "\n",
      "{\"row\":{\"columns\":[1610379639849,null,\"RF12111\",\"GB51YOHM16256757342768\",\"GB09FRMI72607254414882\",9577,\"1986/12/02, 12:57:58\"]}},\n",
      "\n",
      "{\"row\":{\"columns\":[1610379679876,null,\"RF12111\",\"GB19USIB88080562537787\",\"GB57YCAE15699619760779\",9178,\"1983/05/27, 17:45:16\"]}},\n",
      "\n"
     ]
    },
    {
     "ename": "KeyboardInterrupt",
     "evalue": "",
     "output_type": "error",
     "traceback": [
      "\u001b[0;31m---------------------------------------------------------------------------\u001b[0m",
      "\u001b[0;31mKeyboardInterrupt\u001b[0m                         Traceback (most recent call last)",
      "\u001b[0;32m<ipython-input-102-57ca340b8b2c>\u001b[0m in \u001b[0;36m<module>\u001b[0;34m\u001b[0m\n\u001b[1;32m      1\u001b[0m \u001b[0mquery\u001b[0m \u001b[0;34m=\u001b[0m \u001b[0mclient\u001b[0m\u001b[0;34m.\u001b[0m\u001b[0mquery\u001b[0m\u001b[0;34m(\u001b[0m\u001b[0;34m'SELECT * FROM TRANSACTIONS_HIGH EMIT CHANGES'\u001b[0m\u001b[0;34m)\u001b[0m\u001b[0;34m\u001b[0m\u001b[0;34m\u001b[0m\u001b[0m\n\u001b[1;32m      2\u001b[0m \u001b[0;34m\u001b[0m\u001b[0m\n\u001b[0;32m----> 3\u001b[0;31m \u001b[0;32mfor\u001b[0m \u001b[0mitem\u001b[0m \u001b[0;32min\u001b[0m \u001b[0mquery\u001b[0m\u001b[0;34m:\u001b[0m\u001b[0;34m\u001b[0m\u001b[0;34m\u001b[0m\u001b[0m\n\u001b[0m\u001b[1;32m      4\u001b[0m     \u001b[0mprint\u001b[0m\u001b[0;34m(\u001b[0m\u001b[0mitem\u001b[0m\u001b[0;34m)\u001b[0m\u001b[0;34m\u001b[0m\u001b[0;34m\u001b[0m\u001b[0m\n",
      "\u001b[0;32m/opt/conda/lib/python3.8/site-packages/ksql/client.py\u001b[0m in \u001b[0;36mquery\u001b[0;34m(self, query_string, encoding, chunk_size, stream_properties, idle_timeout, use_http2, return_objects)\u001b[0m\n\u001b[1;32m     61\u001b[0m             )\n\u001b[1;32m     62\u001b[0m \u001b[0;34m\u001b[0m\u001b[0m\n\u001b[0;32m---> 63\u001b[0;31m             \u001b[0;32myield\u001b[0m \u001b[0;32mfrom\u001b[0m \u001b[0mprocess_query_result\u001b[0m\u001b[0;34m(\u001b[0m\u001b[0mresults\u001b[0m\u001b[0;34m,\u001b[0m \u001b[0mreturn_objects\u001b[0m\u001b[0;34m)\u001b[0m\u001b[0;34m\u001b[0m\u001b[0;34m\u001b[0m\u001b[0m\n\u001b[0m\u001b[1;32m     64\u001b[0m \u001b[0;34m\u001b[0m\u001b[0m\n\u001b[1;32m     65\u001b[0m     \u001b[0;32mdef\u001b[0m \u001b[0mclose_query\u001b[0m\u001b[0;34m(\u001b[0m\u001b[0mself\u001b[0m\u001b[0;34m,\u001b[0m \u001b[0mquery_id\u001b[0m\u001b[0;34m)\u001b[0m\u001b[0;34m:\u001b[0m\u001b[0;34m\u001b[0m\u001b[0;34m\u001b[0m\u001b[0m\n",
      "\u001b[0;32m/opt/conda/lib/python3.8/site-packages/ksql/utils.py\u001b[0m in \u001b[0;36mprocess_query_result\u001b[0;34m(results, return_objects)\u001b[0m\n\u001b[1;32m     98\u001b[0m \u001b[0;32mdef\u001b[0m \u001b[0mprocess_query_result\u001b[0m\u001b[0;34m(\u001b[0m\u001b[0mresults\u001b[0m\u001b[0;34m,\u001b[0m \u001b[0mreturn_objects\u001b[0m\u001b[0;34m=\u001b[0m\u001b[0;32mNone\u001b[0m\u001b[0;34m)\u001b[0m\u001b[0;34m:\u001b[0m\u001b[0;34m\u001b[0m\u001b[0;34m\u001b[0m\u001b[0m\n\u001b[1;32m     99\u001b[0m     \u001b[0;32mif\u001b[0m \u001b[0mreturn_objects\u001b[0m \u001b[0;32mis\u001b[0m \u001b[0;32mNone\u001b[0m\u001b[0;34m:\u001b[0m\u001b[0;34m\u001b[0m\u001b[0;34m\u001b[0m\u001b[0m\n\u001b[0;32m--> 100\u001b[0;31m         \u001b[0;32myield\u001b[0m \u001b[0;32mfrom\u001b[0m \u001b[0mresults\u001b[0m\u001b[0;34m\u001b[0m\u001b[0;34m\u001b[0m\u001b[0m\n\u001b[0m\u001b[1;32m    101\u001b[0m \u001b[0;34m\u001b[0m\u001b[0m\n\u001b[1;32m    102\u001b[0m     \u001b[0;31m# parse rows into objects\u001b[0m\u001b[0;34m\u001b[0m\u001b[0;34m\u001b[0m\u001b[0;34m\u001b[0m\u001b[0m\n",
      "\u001b[0;32m/opt/conda/lib/python3.8/site-packages/ksql/api.py\u001b[0m in \u001b[0;36mquery\u001b[0;34m(self, query_string, encoding, chunk_size, stream_properties, idle_timeout)\u001b[0m\n\u001b[1;32m    116\u001b[0m \u001b[0;34m\u001b[0m\u001b[0m\n\u001b[1;32m    117\u001b[0m         \u001b[0;32mif\u001b[0m \u001b[0mstreaming_response\u001b[0m\u001b[0;34m.\u001b[0m\u001b[0mcode\u001b[0m \u001b[0;34m==\u001b[0m \u001b[0;36m200\u001b[0m\u001b[0;34m:\u001b[0m\u001b[0;34m\u001b[0m\u001b[0;34m\u001b[0m\u001b[0m\n\u001b[0;32m--> 118\u001b[0;31m             \u001b[0;32mfor\u001b[0m \u001b[0mchunk\u001b[0m \u001b[0;32min\u001b[0m \u001b[0mstreaming_response\u001b[0m\u001b[0;34m:\u001b[0m\u001b[0;34m\u001b[0m\u001b[0;34m\u001b[0m\u001b[0m\n\u001b[0m\u001b[1;32m    119\u001b[0m                 \u001b[0;32mif\u001b[0m \u001b[0mchunk\u001b[0m \u001b[0;34m!=\u001b[0m \u001b[0;34mb\"\\n\"\u001b[0m\u001b[0;34m:\u001b[0m\u001b[0;34m\u001b[0m\u001b[0;34m\u001b[0m\u001b[0m\n\u001b[1;32m    120\u001b[0m                     \u001b[0mstart_idle\u001b[0m \u001b[0;34m=\u001b[0m \u001b[0;32mNone\u001b[0m\u001b[0;34m\u001b[0m\u001b[0;34m\u001b[0m\u001b[0m\n",
      "\u001b[0;32m/opt/conda/lib/python3.8/http/client.py\u001b[0m in \u001b[0;36mreadline\u001b[0;34m(self, limit)\u001b[0m\n\u001b[1;32m    657\u001b[0m         \u001b[0;32mif\u001b[0m \u001b[0mself\u001b[0m\u001b[0;34m.\u001b[0m\u001b[0mlength\u001b[0m \u001b[0;32mis\u001b[0m \u001b[0;32mnot\u001b[0m \u001b[0;32mNone\u001b[0m \u001b[0;32mand\u001b[0m \u001b[0;34m(\u001b[0m\u001b[0mlimit\u001b[0m \u001b[0;34m<\u001b[0m \u001b[0;36m0\u001b[0m \u001b[0;32mor\u001b[0m \u001b[0mlimit\u001b[0m \u001b[0;34m>\u001b[0m \u001b[0mself\u001b[0m\u001b[0;34m.\u001b[0m\u001b[0mlength\u001b[0m\u001b[0;34m)\u001b[0m\u001b[0;34m:\u001b[0m\u001b[0;34m\u001b[0m\u001b[0;34m\u001b[0m\u001b[0m\n\u001b[1;32m    658\u001b[0m             \u001b[0mlimit\u001b[0m \u001b[0;34m=\u001b[0m \u001b[0mself\u001b[0m\u001b[0;34m.\u001b[0m\u001b[0mlength\u001b[0m\u001b[0;34m\u001b[0m\u001b[0;34m\u001b[0m\u001b[0m\n\u001b[0;32m--> 659\u001b[0;31m         \u001b[0mresult\u001b[0m \u001b[0;34m=\u001b[0m \u001b[0mself\u001b[0m\u001b[0;34m.\u001b[0m\u001b[0mfp\u001b[0m\u001b[0;34m.\u001b[0m\u001b[0mreadline\u001b[0m\u001b[0;34m(\u001b[0m\u001b[0mlimit\u001b[0m\u001b[0;34m)\u001b[0m\u001b[0;34m\u001b[0m\u001b[0;34m\u001b[0m\u001b[0m\n\u001b[0m\u001b[1;32m    660\u001b[0m         \u001b[0;32mif\u001b[0m \u001b[0;32mnot\u001b[0m \u001b[0mresult\u001b[0m \u001b[0;32mand\u001b[0m \u001b[0mlimit\u001b[0m\u001b[0;34m:\u001b[0m\u001b[0;34m\u001b[0m\u001b[0;34m\u001b[0m\u001b[0m\n\u001b[1;32m    661\u001b[0m             \u001b[0mself\u001b[0m\u001b[0;34m.\u001b[0m\u001b[0m_close_conn\u001b[0m\u001b[0;34m(\u001b[0m\u001b[0;34m)\u001b[0m\u001b[0;34m\u001b[0m\u001b[0;34m\u001b[0m\u001b[0m\n",
      "\u001b[0;32m/opt/conda/lib/python3.8/socket.py\u001b[0m in \u001b[0;36mreadinto\u001b[0;34m(self, b)\u001b[0m\n\u001b[1;32m    667\u001b[0m         \u001b[0;32mwhile\u001b[0m \u001b[0;32mTrue\u001b[0m\u001b[0;34m:\u001b[0m\u001b[0;34m\u001b[0m\u001b[0;34m\u001b[0m\u001b[0m\n\u001b[1;32m    668\u001b[0m             \u001b[0;32mtry\u001b[0m\u001b[0;34m:\u001b[0m\u001b[0;34m\u001b[0m\u001b[0;34m\u001b[0m\u001b[0m\n\u001b[0;32m--> 669\u001b[0;31m                 \u001b[0;32mreturn\u001b[0m \u001b[0mself\u001b[0m\u001b[0;34m.\u001b[0m\u001b[0m_sock\u001b[0m\u001b[0;34m.\u001b[0m\u001b[0mrecv_into\u001b[0m\u001b[0;34m(\u001b[0m\u001b[0mb\u001b[0m\u001b[0;34m)\u001b[0m\u001b[0;34m\u001b[0m\u001b[0;34m\u001b[0m\u001b[0m\n\u001b[0m\u001b[1;32m    670\u001b[0m             \u001b[0;32mexcept\u001b[0m \u001b[0mtimeout\u001b[0m\u001b[0;34m:\u001b[0m\u001b[0;34m\u001b[0m\u001b[0;34m\u001b[0m\u001b[0m\n\u001b[1;32m    671\u001b[0m                 \u001b[0mself\u001b[0m\u001b[0;34m.\u001b[0m\u001b[0m_timeout_occurred\u001b[0m \u001b[0;34m=\u001b[0m \u001b[0;32mTrue\u001b[0m\u001b[0;34m\u001b[0m\u001b[0;34m\u001b[0m\u001b[0m\n",
      "\u001b[0;31mKeyboardInterrupt\u001b[0m: "
     ]
    }
   ],
   "source": [
    "query = client.query('SELECT * FROM TRANSACTIONS_HIGH EMIT CHANGES')\n",
    "\n",
    "for item in query: \n",
    "    print(item)"
   ]
  },
  {
   "cell_type": "markdown",
   "metadata": {},
   "source": [
    "### Additional (optional) analysis and preprocessing examples\n",
    "\n",
    "Some more examples for possible data wrangling and preprocessing with KSQL:\n",
    "\n",
    "- Anonymization\n",
    "- Augmentation\n",
    "- Merge / Join data frames"
   ]
  },
  {
   "cell_type": "code",
   "execution_count": 103,
   "metadata": {
    "collapsed": true
   },
   "outputs": [
    {
     "name": "stdout",
     "output_type": "stream",
     "text": [
      "[{\"header\":{\"queryId\":\"none\",\"schema\":\"`TRANSACTION_ID` STRING, `KSQL_COL_1` STRING\"}},\n",
      "\n",
      "{\"row\":{\"columns\":[\"RF12111\",\"XX94RQMU23438827339470\"]}},\n",
      "\n",
      "{\"row\":{\"columns\":[\"RF12111\",\"XX83WIKR43447254751484\"]}},\n",
      "\n"
     ]
    },
    {
     "ename": "KeyboardInterrupt",
     "evalue": "",
     "output_type": "error",
     "traceback": [
      "\u001b[0;31m---------------------------------------------------------------------------\u001b[0m",
      "\u001b[0;31mKeyboardInterrupt\u001b[0m                         Traceback (most recent call last)",
      "\u001b[0;32m<ipython-input-103-c331f15c97c8>\u001b[0m in \u001b[0;36m<module>\u001b[0;34m\u001b[0m\n\u001b[1;32m      1\u001b[0m \u001b[0mquery\u001b[0m \u001b[0;34m=\u001b[0m \u001b[0mclient\u001b[0m\u001b[0;34m.\u001b[0m\u001b[0mquery\u001b[0m\u001b[0;34m(\u001b[0m\u001b[0;34m'SELECT transaction_id, MASK_LEFT(from_account, 2) FROM TRANSACTIONS EMIT CHANGES'\u001b[0m\u001b[0;34m)\u001b[0m\u001b[0;34m\u001b[0m\u001b[0;34m\u001b[0m\u001b[0m\n\u001b[1;32m      2\u001b[0m \u001b[0;34m\u001b[0m\u001b[0m\n\u001b[0;32m----> 3\u001b[0;31m \u001b[0;32mfor\u001b[0m \u001b[0mitem\u001b[0m \u001b[0;32min\u001b[0m \u001b[0mquery\u001b[0m\u001b[0;34m:\u001b[0m\u001b[0;34m\u001b[0m\u001b[0;34m\u001b[0m\u001b[0m\n\u001b[0m\u001b[1;32m      4\u001b[0m     \u001b[0mprint\u001b[0m\u001b[0;34m(\u001b[0m\u001b[0mitem\u001b[0m\u001b[0;34m)\u001b[0m\u001b[0;34m\u001b[0m\u001b[0;34m\u001b[0m\u001b[0m\n",
      "\u001b[0;32m/opt/conda/lib/python3.8/site-packages/ksql/client.py\u001b[0m in \u001b[0;36mquery\u001b[0;34m(self, query_string, encoding, chunk_size, stream_properties, idle_timeout, use_http2, return_objects)\u001b[0m\n\u001b[1;32m     61\u001b[0m             )\n\u001b[1;32m     62\u001b[0m \u001b[0;34m\u001b[0m\u001b[0m\n\u001b[0;32m---> 63\u001b[0;31m             \u001b[0;32myield\u001b[0m \u001b[0;32mfrom\u001b[0m \u001b[0mprocess_query_result\u001b[0m\u001b[0;34m(\u001b[0m\u001b[0mresults\u001b[0m\u001b[0;34m,\u001b[0m \u001b[0mreturn_objects\u001b[0m\u001b[0;34m)\u001b[0m\u001b[0;34m\u001b[0m\u001b[0;34m\u001b[0m\u001b[0m\n\u001b[0m\u001b[1;32m     64\u001b[0m \u001b[0;34m\u001b[0m\u001b[0m\n\u001b[1;32m     65\u001b[0m     \u001b[0;32mdef\u001b[0m \u001b[0mclose_query\u001b[0m\u001b[0;34m(\u001b[0m\u001b[0mself\u001b[0m\u001b[0;34m,\u001b[0m \u001b[0mquery_id\u001b[0m\u001b[0;34m)\u001b[0m\u001b[0;34m:\u001b[0m\u001b[0;34m\u001b[0m\u001b[0;34m\u001b[0m\u001b[0m\n",
      "\u001b[0;32m/opt/conda/lib/python3.8/site-packages/ksql/utils.py\u001b[0m in \u001b[0;36mprocess_query_result\u001b[0;34m(results, return_objects)\u001b[0m\n\u001b[1;32m     98\u001b[0m \u001b[0;32mdef\u001b[0m \u001b[0mprocess_query_result\u001b[0m\u001b[0;34m(\u001b[0m\u001b[0mresults\u001b[0m\u001b[0;34m,\u001b[0m \u001b[0mreturn_objects\u001b[0m\u001b[0;34m=\u001b[0m\u001b[0;32mNone\u001b[0m\u001b[0;34m)\u001b[0m\u001b[0;34m:\u001b[0m\u001b[0;34m\u001b[0m\u001b[0;34m\u001b[0m\u001b[0m\n\u001b[1;32m     99\u001b[0m     \u001b[0;32mif\u001b[0m \u001b[0mreturn_objects\u001b[0m \u001b[0;32mis\u001b[0m \u001b[0;32mNone\u001b[0m\u001b[0;34m:\u001b[0m\u001b[0;34m\u001b[0m\u001b[0;34m\u001b[0m\u001b[0m\n\u001b[0;32m--> 100\u001b[0;31m         \u001b[0;32myield\u001b[0m \u001b[0;32mfrom\u001b[0m \u001b[0mresults\u001b[0m\u001b[0;34m\u001b[0m\u001b[0;34m\u001b[0m\u001b[0m\n\u001b[0m\u001b[1;32m    101\u001b[0m \u001b[0;34m\u001b[0m\u001b[0m\n\u001b[1;32m    102\u001b[0m     \u001b[0;31m# parse rows into objects\u001b[0m\u001b[0;34m\u001b[0m\u001b[0;34m\u001b[0m\u001b[0;34m\u001b[0m\u001b[0m\n",
      "\u001b[0;32m/opt/conda/lib/python3.8/site-packages/ksql/api.py\u001b[0m in \u001b[0;36mquery\u001b[0;34m(self, query_string, encoding, chunk_size, stream_properties, idle_timeout)\u001b[0m\n\u001b[1;32m    116\u001b[0m \u001b[0;34m\u001b[0m\u001b[0m\n\u001b[1;32m    117\u001b[0m         \u001b[0;32mif\u001b[0m \u001b[0mstreaming_response\u001b[0m\u001b[0;34m.\u001b[0m\u001b[0mcode\u001b[0m \u001b[0;34m==\u001b[0m \u001b[0;36m200\u001b[0m\u001b[0;34m:\u001b[0m\u001b[0;34m\u001b[0m\u001b[0;34m\u001b[0m\u001b[0m\n\u001b[0;32m--> 118\u001b[0;31m             \u001b[0;32mfor\u001b[0m \u001b[0mchunk\u001b[0m \u001b[0;32min\u001b[0m \u001b[0mstreaming_response\u001b[0m\u001b[0;34m:\u001b[0m\u001b[0;34m\u001b[0m\u001b[0;34m\u001b[0m\u001b[0m\n\u001b[0m\u001b[1;32m    119\u001b[0m                 \u001b[0;32mif\u001b[0m \u001b[0mchunk\u001b[0m \u001b[0;34m!=\u001b[0m \u001b[0;34mb\"\\n\"\u001b[0m\u001b[0;34m:\u001b[0m\u001b[0;34m\u001b[0m\u001b[0;34m\u001b[0m\u001b[0m\n\u001b[1;32m    120\u001b[0m                     \u001b[0mstart_idle\u001b[0m \u001b[0;34m=\u001b[0m \u001b[0;32mNone\u001b[0m\u001b[0;34m\u001b[0m\u001b[0;34m\u001b[0m\u001b[0m\n",
      "\u001b[0;32m/opt/conda/lib/python3.8/http/client.py\u001b[0m in \u001b[0;36mreadline\u001b[0;34m(self, limit)\u001b[0m\n\u001b[1;32m    657\u001b[0m         \u001b[0;32mif\u001b[0m \u001b[0mself\u001b[0m\u001b[0;34m.\u001b[0m\u001b[0mlength\u001b[0m \u001b[0;32mis\u001b[0m \u001b[0;32mnot\u001b[0m \u001b[0;32mNone\u001b[0m \u001b[0;32mand\u001b[0m \u001b[0;34m(\u001b[0m\u001b[0mlimit\u001b[0m \u001b[0;34m<\u001b[0m \u001b[0;36m0\u001b[0m \u001b[0;32mor\u001b[0m \u001b[0mlimit\u001b[0m \u001b[0;34m>\u001b[0m \u001b[0mself\u001b[0m\u001b[0;34m.\u001b[0m\u001b[0mlength\u001b[0m\u001b[0;34m)\u001b[0m\u001b[0;34m:\u001b[0m\u001b[0;34m\u001b[0m\u001b[0;34m\u001b[0m\u001b[0m\n\u001b[1;32m    658\u001b[0m             \u001b[0mlimit\u001b[0m \u001b[0;34m=\u001b[0m \u001b[0mself\u001b[0m\u001b[0;34m.\u001b[0m\u001b[0mlength\u001b[0m\u001b[0;34m\u001b[0m\u001b[0;34m\u001b[0m\u001b[0m\n\u001b[0;32m--> 659\u001b[0;31m         \u001b[0mresult\u001b[0m \u001b[0;34m=\u001b[0m \u001b[0mself\u001b[0m\u001b[0;34m.\u001b[0m\u001b[0mfp\u001b[0m\u001b[0;34m.\u001b[0m\u001b[0mreadline\u001b[0m\u001b[0;34m(\u001b[0m\u001b[0mlimit\u001b[0m\u001b[0;34m)\u001b[0m\u001b[0;34m\u001b[0m\u001b[0;34m\u001b[0m\u001b[0m\n\u001b[0m\u001b[1;32m    660\u001b[0m         \u001b[0;32mif\u001b[0m \u001b[0;32mnot\u001b[0m \u001b[0mresult\u001b[0m \u001b[0;32mand\u001b[0m \u001b[0mlimit\u001b[0m\u001b[0;34m:\u001b[0m\u001b[0;34m\u001b[0m\u001b[0;34m\u001b[0m\u001b[0m\n\u001b[1;32m    661\u001b[0m             \u001b[0mself\u001b[0m\u001b[0;34m.\u001b[0m\u001b[0m_close_conn\u001b[0m\u001b[0;34m(\u001b[0m\u001b[0;34m)\u001b[0m\u001b[0;34m\u001b[0m\u001b[0;34m\u001b[0m\u001b[0m\n",
      "\u001b[0;32m/opt/conda/lib/python3.8/socket.py\u001b[0m in \u001b[0;36mreadinto\u001b[0;34m(self, b)\u001b[0m\n\u001b[1;32m    667\u001b[0m         \u001b[0;32mwhile\u001b[0m \u001b[0;32mTrue\u001b[0m\u001b[0;34m:\u001b[0m\u001b[0;34m\u001b[0m\u001b[0;34m\u001b[0m\u001b[0m\n\u001b[1;32m    668\u001b[0m             \u001b[0;32mtry\u001b[0m\u001b[0;34m:\u001b[0m\u001b[0;34m\u001b[0m\u001b[0;34m\u001b[0m\u001b[0m\n\u001b[0;32m--> 669\u001b[0;31m                 \u001b[0;32mreturn\u001b[0m \u001b[0mself\u001b[0m\u001b[0;34m.\u001b[0m\u001b[0m_sock\u001b[0m\u001b[0;34m.\u001b[0m\u001b[0mrecv_into\u001b[0m\u001b[0;34m(\u001b[0m\u001b[0mb\u001b[0m\u001b[0;34m)\u001b[0m\u001b[0;34m\u001b[0m\u001b[0;34m\u001b[0m\u001b[0m\n\u001b[0m\u001b[1;32m    670\u001b[0m             \u001b[0;32mexcept\u001b[0m \u001b[0mtimeout\u001b[0m\u001b[0;34m:\u001b[0m\u001b[0;34m\u001b[0m\u001b[0;34m\u001b[0m\u001b[0m\n\u001b[1;32m    671\u001b[0m                 \u001b[0mself\u001b[0m\u001b[0;34m.\u001b[0m\u001b[0m_timeout_occurred\u001b[0m \u001b[0;34m=\u001b[0m \u001b[0;32mTrue\u001b[0m\u001b[0;34m\u001b[0m\u001b[0;34m\u001b[0m\u001b[0m\n",
      "\u001b[0;31mKeyboardInterrupt\u001b[0m: "
     ]
    }
   ],
   "source": [
    "query = client.query('SELECT transaction_id, MASK_LEFT(from_account, 2) FROM TRANSACTIONS EMIT CHANGES')\n",
    "\n",
    "for item in query: \n",
    "    print(item)"
   ]
  },
  {
   "cell_type": "markdown",
   "metadata": {},
   "source": [
    "# Mapping from KSQL to NumPy / pandas for Machine Learning tasks"
   ]
  },
  {
   "cell_type": "code",
   "execution_count": 25,
   "metadata": {},
   "outputs": [],
   "source": [
    "import numpy as np\n",
    "import pandas as pd\n",
    "import json"
   ]
  },
  {
   "cell_type": "markdown",
   "metadata": {},
   "source": [
    "The query below command returns a Python generator. It can be printed e.g. by reading its values via next(query) or a for loop.\n",
    "\n",
    "Due to a current [bug in ksql-python library](https://github.com/bryanyang0528/ksql-python/issues/57), we need to to an additional line of Python code to strip out unnecessary info and change to 2D array "
   ]
  },
  {
   "cell_type": "code",
   "execution_count": 122,
   "metadata": {
    "scrolled": false
   },
   "outputs": [
    {
     "name": "stdout",
     "output_type": "stream",
     "text": [
      "[{\"header\":{\"queryId\":\"query_1610381453023\",\"schema\":\"`ROWKEY` STRING KEY, `ROWTIME` BIGINT, `FROM_ACCOUNT` STRING, `KSQL_COL_1` BIGINT, `KSQL_COL_2` INTEGER\"}},\n",
      "\n",
      "{\"row\":{\"columns\":[\"GB17TBKQ74645344152028\",1610379209486,\"GB17TBKQ74645344152028\",1,6784]}}]\n",
      "^^ final result ^^\n"
     ]
    }
   ],
   "source": [
    "query = client.query('select * from AGG WHERE ROWKEY = \\'GB17TBKQ74645344152028\\'') # Returns a Python generator object\n",
    "\n",
    "try:\n",
    "    for item in query:\n",
    "        print(item)\n",
    "except RuntimeError:\n",
    "    print(\"^^ final result ^^\")\n"
   ]
  },
  {
   "cell_type": "code",
   "execution_count": 100,
   "metadata": {
    "collapsed": true
   },
   "outputs": [
    {
     "ename": "RuntimeError",
     "evalue": "generator raised StopIteration",
     "output_type": "error",
     "traceback": [
      "\u001b[0;31m---------------------------------------------------------------------------\u001b[0m",
      "\u001b[0;31mStopIteration\u001b[0m                             Traceback (most recent call last)",
      "\u001b[0;32m/opt/conda/lib/python3.8/site-packages/ksql/utils.py\u001b[0m in \u001b[0;36mprocess_query_result\u001b[0;34m(results, return_objects)\u001b[0m\n\u001b[1;32m    102\u001b[0m     \u001b[0;31m# parse rows into objects\u001b[0m\u001b[0;34m\u001b[0m\u001b[0;34m\u001b[0m\u001b[0;34m\u001b[0m\u001b[0m\n\u001b[0;32m--> 103\u001b[0;31m     \u001b[0mheader\u001b[0m \u001b[0;34m=\u001b[0m \u001b[0mnext\u001b[0m\u001b[0;34m(\u001b[0m\u001b[0mresults\u001b[0m\u001b[0;34m)\u001b[0m\u001b[0;34m\u001b[0m\u001b[0;34m\u001b[0m\u001b[0m\n\u001b[0m\u001b[1;32m    104\u001b[0m     \u001b[0mcolumns\u001b[0m \u001b[0;34m=\u001b[0m \u001b[0mparse_columns\u001b[0m\u001b[0;34m(\u001b[0m\u001b[0mheader\u001b[0m\u001b[0;34m)\u001b[0m\u001b[0;34m\u001b[0m\u001b[0;34m\u001b[0m\u001b[0m\n",
      "\u001b[0;31mStopIteration\u001b[0m: ",
      "\nThe above exception was the direct cause of the following exception:\n",
      "\u001b[0;31mRuntimeError\u001b[0m                              Traceback (most recent call last)",
      "\u001b[0;32m<ipython-input-100-d53b4c9a02d3>\u001b[0m in \u001b[0;36m<module>\u001b[0;34m\u001b[0m\n\u001b[1;32m      6\u001b[0m \u001b[0;31m#df = pd.DataFrame(data=data)\u001b[0m\u001b[0;34m\u001b[0m\u001b[0;34m\u001b[0m\u001b[0;34m\u001b[0m\u001b[0m\n\u001b[1;32m      7\u001b[0m \u001b[0;34m\u001b[0m\u001b[0m\n\u001b[0;32m----> 8\u001b[0;31m \u001b[0mrecords\u001b[0m \u001b[0;34m=\u001b[0m \u001b[0;34m[\u001b[0m\u001b[0mjson\u001b[0m\u001b[0;34m.\u001b[0m\u001b[0mloads\u001b[0m\u001b[0;34m(\u001b[0m\u001b[0mr\u001b[0m\u001b[0;34m)\u001b[0m \u001b[0;32mfor\u001b[0m \u001b[0mr\u001b[0m \u001b[0;32min\u001b[0m \u001b[0;34m''\u001b[0m\u001b[0;34m.\u001b[0m\u001b[0mjoin\u001b[0m\u001b[0;34m(\u001b[0m\u001b[0mquery\u001b[0m\u001b[0;34m)\u001b[0m\u001b[0;34m.\u001b[0m\u001b[0mstrip\u001b[0m\u001b[0;34m(\u001b[0m\u001b[0;34m)\u001b[0m\u001b[0;34m.\u001b[0m\u001b[0mreplace\u001b[0m\u001b[0;34m(\u001b[0m\u001b[0;34m'\\n\\n\\n\\n'\u001b[0m\u001b[0;34m,\u001b[0m \u001b[0;34m''\u001b[0m\u001b[0;34m)\u001b[0m\u001b[0;34m.\u001b[0m\u001b[0msplit\u001b[0m\u001b[0;34m(\u001b[0m\u001b[0;34m'\\n'\u001b[0m\u001b[0;34m)\u001b[0m\u001b[0;34m]\u001b[0m\u001b[0;34m\u001b[0m\u001b[0;34m\u001b[0m\u001b[0m\n\u001b[0m\u001b[1;32m      9\u001b[0m \u001b[0mdata\u001b[0m \u001b[0;34m=\u001b[0m \u001b[0;34m[\u001b[0m\u001b[0mr\u001b[0m\u001b[0;34m[\u001b[0m\u001b[0;34m'row'\u001b[0m\u001b[0;34m]\u001b[0m\u001b[0;34m[\u001b[0m\u001b[0;34m'columns'\u001b[0m\u001b[0;34m]\u001b[0m\u001b[0;34m[\u001b[0m\u001b[0;36m2\u001b[0m\u001b[0;34m:\u001b[0m\u001b[0;34m]\u001b[0m \u001b[0;32mfor\u001b[0m \u001b[0mr\u001b[0m \u001b[0;32min\u001b[0m \u001b[0mrecords\u001b[0m\u001b[0;34m[\u001b[0m\u001b[0;34m:\u001b[0m\u001b[0;34m-\u001b[0m\u001b[0;36m1\u001b[0m\u001b[0;34m]\u001b[0m\u001b[0;34m]\u001b[0m\u001b[0;34m\u001b[0m\u001b[0;34m\u001b[0m\u001b[0m\n\u001b[1;32m     10\u001b[0m \u001b[0;31m#data = r['row']['columns'][2] for r in records\u001b[0m\u001b[0;34m\u001b[0m\u001b[0;34m\u001b[0m\u001b[0;34m\u001b[0m\u001b[0m\n",
      "\u001b[0;32m/opt/conda/lib/python3.8/site-packages/ksql/client.py\u001b[0m in \u001b[0;36mquery\u001b[0;34m(self, query_string, encoding, chunk_size, stream_properties, idle_timeout, use_http2, return_objects)\u001b[0m\n\u001b[1;32m     61\u001b[0m             )\n\u001b[1;32m     62\u001b[0m \u001b[0;34m\u001b[0m\u001b[0m\n\u001b[0;32m---> 63\u001b[0;31m             \u001b[0;32myield\u001b[0m \u001b[0;32mfrom\u001b[0m \u001b[0mprocess_query_result\u001b[0m\u001b[0;34m(\u001b[0m\u001b[0mresults\u001b[0m\u001b[0;34m,\u001b[0m \u001b[0mreturn_objects\u001b[0m\u001b[0;34m)\u001b[0m\u001b[0;34m\u001b[0m\u001b[0;34m\u001b[0m\u001b[0m\n\u001b[0m\u001b[1;32m     64\u001b[0m \u001b[0;34m\u001b[0m\u001b[0m\n\u001b[1;32m     65\u001b[0m     \u001b[0;32mdef\u001b[0m \u001b[0mclose_query\u001b[0m\u001b[0;34m(\u001b[0m\u001b[0mself\u001b[0m\u001b[0;34m,\u001b[0m \u001b[0mquery_id\u001b[0m\u001b[0;34m)\u001b[0m\u001b[0;34m:\u001b[0m\u001b[0;34m\u001b[0m\u001b[0;34m\u001b[0m\u001b[0m\n",
      "\u001b[0;31mRuntimeError\u001b[0m: generator raised StopIteration"
     ]
    }
   ],
   "source": [
    "query = client.query('select * from AGG WHERE ROWKEY=\\'GB73ZPWA03514126591488\\';') # Returns a Python generator object\n",
    "\n",
    "#items = [item for item in query][:-1]        # -1 to remove last record that is a dummy msg for \"Limit Reached\"          \n",
    "#one_record = json.loads(''.join(items))      # Join two records as one as ksql-python is splitting it into two?          \n",
    "#data = [one_record['row']['columns'][2:-1]]  # Strip out unnecessary info and change to 2D array                     \n",
    "#df = pd.DataFrame(data=data)   \n",
    "\n",
    "records = [json.loads(r) for r in ''.join(query).strip().replace('\\n\\n\\n\\n', '').split('\\n')]\n",
    "data = [r['row']['columns'][2:] for r in records[:-1]]\n",
    "#data = r['row']['columns'][2] for r in records\n",
    "df = pd.DataFrame(data=data, columns=['transaction_id', 'from_account', 'to_account', 'amount_cents', 'created_at'])\n",
    "df"
   ]
  },
  {
   "cell_type": "markdown",
   "metadata": {},
   "source": [
    "### Generate some test data \n",
    "\n",
    "As discussed in the step-by-step guide, you have various options. Here we - ironically - read messages from a CSV file. This is for simple demo purposes so that you don't have to set up a real continuous Kafka stream. \n",
    "\n",
    "In real world or more advanced examples, you should connect to a real Kafka data stream (for instance using the Kafka data generator or Kafka Connect).\n",
    "\n",
    "Here we just consume a few messages for demo purposes so that they get mapped into a pandas dataframe:\n",
    "\n",
    "                cat /Users/kai.waehner/git-projects/python-jupyter-apache-kafka-ksql-tensorflow-keras/data/creditcard_extended.csv | kafka-console-producer --broker-list localhost:9092 --topic creditcardfraud_source\n",
    "                \n",
    "You need to do this from command line because Jupyter cannot execute this in parallel to above KSQL query."
   ]
  },
  {
   "cell_type": "markdown",
   "metadata": {},
   "source": [
    "# Preprocessing with Pandas + Model Training with TensorFlow / Keras"
   ]
  },
  {
   "cell_type": "markdown",
   "metadata": {},
   "source": [
    "#### BE AWARE: You need enough messages in the pandas data frame to train the model in the below cells (if you just play around with ksql-python and just add a few Kafka events, it is not a sufficient number of rows to continue. You can simply change to df = pd.read_csv(\"data/creditcard.csv\") as shown below in this case to get a bigger data set...\n",
    "\n",
    "\n",
    "This part only includes the steps required for model training of the Autoencoder with Keras and TensorFlow. \n",
    "\n",
    "If you want to get a better understanding of the model, take a look at the other notebook [Python Tensorflow Keras Fraud Detection Autoencoder.ipynb](http://localhost:8888/notebooks/Python%20Tensorflow%20Keras%20Fraud%20Detection%20Autoencoder.ipynb) which includes many more details, plots and explanations.\n",
    "\n",
    "[Kudos to David Ellison](https://www.datascience.com/blog/fraud-detection-with-tensorflow).\n",
    "\n",
    "[The credit card fraud data set is available at Kaggle](https://www.kaggle.com/mlg-ulb/creditcardfraud/data)."
   ]
  },
  {
   "cell_type": "code",
   "execution_count": null,
   "metadata": {},
   "outputs": [],
   "source": [
    "# import packages\n",
    "# matplotlib inline\n",
    "#import pandas as pd\n",
    "#import numpy as np\n",
    "from scipy import stats\n",
    "import tensorflow as tf\n",
    "import matplotlib.pyplot as plt\n",
    "import seaborn as sns\n",
    "import pickle\n",
    "from sklearn.model_selection import train_test_split\n",
    "from sklearn.metrics import confusion_matrix, precision_recall_curve\n",
    "from sklearn.metrics import recall_score, classification_report, auc, roc_curve\n",
    "from sklearn.metrics import precision_recall_fscore_support, f1_score\n",
    "from sklearn.preprocessing import StandardScaler\n",
    "from pylab import rcParams\n",
    "from keras.models import Model, load_model\n",
    "from keras.layers import Input, Dense\n",
    "from keras.callbacks import ModelCheckpoint, TensorBoard\n",
    "from keras import regularizers"
   ]
  },
  {
   "cell_type": "code",
   "execution_count": null,
   "metadata": {},
   "outputs": [],
   "source": [
    "# Use the dataframe from above (imported and preprocessed with KSQL)\n",
    "\n",
    "# As alternative directly import from a CSV file (\"the normal approach without Kafka and streaming data\")\n",
    "\n",
    "# \"data/creditcard_small.csv\" is a very small data set (just for quick demo purpose to get a model binary)\n",
    "# => replace with \"data/creditcard.csv\" to use a real data set to train a model with good accuracy\n",
    "#df = pd.read_csv(\"data/creditcard.csv\") \n",
    "\n",
    "\n",
    "df.head(n=5) #just to check you imported the dataset properly"
   ]
  },
  {
   "cell_type": "code",
   "execution_count": null,
   "metadata": {},
   "outputs": [],
   "source": [
    "#set random seed and percentage of test data\n",
    "RANDOM_SEED = 314 #used to help randomly select the data points\n",
    "TEST_PCT = 0.2 # 20% of the data\n",
    "\n",
    "#set up graphic style in this case I am using the color scheme from xkcd.com\n",
    "rcParams['figure.figsize'] = 14, 8.7 # Golden Mean\n",
    "LABELS = [\"Normal\",\"Fraud\"]\n",
    "#col_list = [\"cerulean\",\"scarlet\"]# https://xkcd.com/color/rgb/\n",
    "#sns.set(style='white', font_scale=1.75, palette=sns.xkcd_palette(col_list))"
   ]
  },
  {
   "cell_type": "code",
   "execution_count": null,
   "metadata": {},
   "outputs": [],
   "source": [
    "normal_df = [df.Class == 0] #save normal_df observations into a separate df\n",
    "fraud_df = [df.Class == 1] #do the same for frauds"
   ]
  },
  {
   "cell_type": "code",
   "execution_count": null,
   "metadata": {},
   "outputs": [],
   "source": [
    "#data = df.drop(['Time'], axis=1) #if you think the var is unimportant\n",
    "df_norm = df\n",
    "df_norm['Time'] = StandardScaler().fit_transform(df_norm['Time'].values.reshape(-1, 1))\n",
    "df_norm['Amount'] = StandardScaler().fit_transform(df_norm['Amount'].values.reshape(-1, 1))"
   ]
  },
  {
   "cell_type": "code",
   "execution_count": null,
   "metadata": {},
   "outputs": [],
   "source": [
    "train_x, test_x = train_test_split(df_norm, test_size=TEST_PCT, random_state=RANDOM_SEED)\n",
    "train_x = train_x[train_x.Class == 0] #where normal transactions\n",
    "train_x = train_x.drop(['Class'], axis=1) #drop the class column\n",
    "\n",
    "test_y = test_x['Class'] #save the class column for the test set\n",
    "test_x = test_x.drop(['Class'], axis=1) #drop the class column\n",
    "\n",
    "train_x = train_x.values #transform to ndarray\n",
    "test_x = test_x.values"
   ]
  },
  {
   "cell_type": "markdown",
   "metadata": {},
   "source": [
    "### My Jupyter Notebook crashed sometimes in the next step 'model training' (probably memory issues):"
   ]
  },
  {
   "cell_type": "code",
   "execution_count": null,
   "metadata": {},
   "outputs": [],
   "source": [
    "# Reduce number of epochs and batch_size if your Jupyter crashes (due to memory issues)\n",
    "# nb_epoch = 100\n",
    "# batch_size = 128\n",
    "nb_epoch = 5\n",
    "batch_size = 32\n",
    "\n",
    "input_dim = train_x.shape[1] #num of columns, 30\n",
    "encoding_dim = 14\n",
    "hidden_dim = int(encoding_dim / 2) #i.e. 7\n",
    "learning_rate = 1e-7\n",
    "\n",
    "input_layer = Input(shape=(input_dim, ))\n",
    "encoder = Dense(encoding_dim, activation=\"tanh\", activity_regularizer=regularizers.l1(learning_rate))(input_layer)\n",
    "encoder = Dense(hidden_dim, activation=\"relu\")(encoder)\n",
    "decoder = Dense(hidden_dim, activation='tanh')(encoder)\n",
    "decoder = Dense(input_dim, activation='relu')(decoder)\n",
    "autoencoder = Model(inputs=input_layer, outputs=decoder)"
   ]
  },
  {
   "cell_type": "code",
   "execution_count": null,
   "metadata": {},
   "outputs": [],
   "source": [
    "autoencoder.compile(metrics=['accuracy'],\n",
    "                    loss='mean_squared_error',\n",
    "                    optimizer='adam')\n",
    "\n",
    "cp = ModelCheckpoint(filepath=\"models/autoencoder_fraud.h5\",\n",
    "                               save_best_only=True,\n",
    "                               verbose=0)\n",
    "\n",
    "tb = TensorBoard(log_dir='./logs',\n",
    "                histogram_freq=0,\n",
    "                write_graph=True,\n",
    "                write_images=True)\n",
    "\n",
    "history = autoencoder.fit(train_x, train_x,\n",
    "                    epochs=nb_epoch,\n",
    "                    batch_size=batch_size,\n",
    "                    shuffle=True,\n",
    "                    validation_data=(test_x, test_x),\n",
    "                    verbose=1,\n",
    "                    callbacks=[cp, tb]).history"
   ]
  },
  {
   "cell_type": "code",
   "execution_count": null,
   "metadata": {},
   "outputs": [],
   "source": [
    "autoencoder = load_model('models/autoencoder_fraud.h5')\n"
   ]
  },
  {
   "cell_type": "code",
   "execution_count": null,
   "metadata": {},
   "outputs": [],
   "source": [
    "test_x_predictions = autoencoder.predict(test_x)\n",
    "mse = np.mean(np.power(test_x - test_x_predictions, 2), axis=1)\n",
    "error_df = pd.DataFrame({'Reconstruction_error': mse,\n",
    "                        'True_class': test_y})\n",
    "error_df.describe()"
   ]
  },
  {
   "cell_type": "markdown",
   "metadata": {},
   "source": [
    "The binary 'models/autoencoder_fraud.h5' is the trained model which can then be deployed anywhere to do prediction on new incoming events in real time. "
   ]
  },
  {
   "cell_type": "markdown",
   "metadata": {},
   "source": [
    "# Model Deployment\n",
    "\n",
    "This demo focuses on the combination of Python and KSQL for data preprocessing and model training. If you want to understand the relation between Apache Kafka, KSQL and Python-related Machine Learning tools like TensorFlow for model deployment and monitoring, please check out my other Github projects:\n",
    "\n",
    "Some examples of model deployment in Kafka environments:\n",
    "\n",
    "- [Analytic models (TensorFlow, Keras, H2O and Deeplearning4j) embedded in Kafka Streams microservices](https://github.com/kaiwaehner/kafka-streams-machine-learning-examples)\n",
    "- [Anomaly detection of IoT sensor data with a model embedded into a KSQL UDF](https://github.com/kaiwaehner/ksql-udf-deep-learning-mqtt-iot)\n",
    "- [RPC communication between Kafka Streams application and model server (TensorFlow Serving)](https://github.com/kaiwaehner/tensorflow-serving-java-grpc-kafka-streams)"
   ]
  },
  {
   "cell_type": "markdown",
   "metadata": {},
   "source": [
    "# Appendix: Pandas analysis with above Fraud Detection Data"
   ]
  },
  {
   "cell_type": "code",
   "execution_count": null,
   "metadata": {},
   "outputs": [],
   "source": [
    "df = pd.read_csv(\"data/creditcard.csv\")"
   ]
  },
  {
   "cell_type": "code",
   "execution_count": null,
   "metadata": {},
   "outputs": [],
   "source": [
    "df.head()"
   ]
  },
  {
   "cell_type": "code",
   "execution_count": null,
   "metadata": {},
   "outputs": [],
   "source": [
    "df.shape"
   ]
  },
  {
   "cell_type": "code",
   "execution_count": null,
   "metadata": {},
   "outputs": [],
   "source": [
    "df.index"
   ]
  },
  {
   "cell_type": "code",
   "execution_count": null,
   "metadata": {},
   "outputs": [],
   "source": [
    "df.columns"
   ]
  },
  {
   "cell_type": "code",
   "execution_count": null,
   "metadata": {},
   "outputs": [],
   "source": [
    "df.values"
   ]
  },
  {
   "cell_type": "code",
   "execution_count": null,
   "metadata": {},
   "outputs": [],
   "source": [
    "df.describe()"
   ]
  },
  {
   "cell_type": "code",
   "execution_count": null,
   "metadata": {},
   "outputs": [],
   "source": [
    "df['Amount']"
   ]
  },
  {
   "cell_type": "code",
   "execution_count": null,
   "metadata": {},
   "outputs": [],
   "source": [
    "df[0:3]"
   ]
  },
  {
   "cell_type": "code",
   "execution_count": null,
   "metadata": {},
   "outputs": [],
   "source": [
    "df.iloc[1,1]"
   ]
  },
  {
   "cell_type": "code",
   "execution_count": null,
   "metadata": {},
   "outputs": [],
   "source": [
    "# Takes a minute or two (big CSV file)...\n",
    "#df.plot()"
   ]
  },
  {
   "cell_type": "code",
   "execution_count": null,
   "metadata": {},
   "outputs": [],
   "source": []
  }
 ],
 "metadata": {
  "kernelspec": {
   "display_name": "Python 3",
   "language": "python",
   "name": "python3"
  },
  "language_info": {
   "codemirror_mode": {
    "name": "ipython",
    "version": 3
   },
   "file_extension": ".py",
   "mimetype": "text/x-python",
   "name": "python",
   "nbconvert_exporter": "python",
   "pygments_lexer": "ipython3",
   "version": "3.8.6"
  }
 },
 "nbformat": 4,
 "nbformat_minor": 2
}
